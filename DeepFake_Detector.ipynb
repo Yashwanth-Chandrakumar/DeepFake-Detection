{
  "nbformat": 4,
  "nbformat_minor": 0,
  "metadata": {
    "colab": {
      "provenance": [],
      "gpuType": "T4",
      "mount_file_id": "1Sxn60s9Fd_BOSmhHy9-YqCD6dYkCHJ0l",
      "authorship_tag": "ABX9TyN8a70kCn3tNGnWle8Rttki",
      "include_colab_link": true
    },
    "kernelspec": {
      "name": "python3",
      "display_name": "Python 3"
    },
    "language_info": {
      "name": "python"
    },
    "accelerator": "GPU"
  },
  "cells": [
    {
      "cell_type": "markdown",
      "metadata": {
        "id": "view-in-github",
        "colab_type": "text"
      },
      "source": [
        "<a href=\"https://colab.research.google.com/github/Yashwanth-Chandrakumar/DeepFake-Detection/blob/main/DeepFake_Detector.ipynb\" target=\"_parent\"><img src=\"https://colab.research.google.com/assets/colab-badge.svg\" alt=\"Open In Colab\"/></a>"
      ]
    },
    {
      "cell_type": "code",
      "execution_count": null,
      "metadata": {
        "id": "GHa0B_cs4_lY"
      },
      "outputs": [],
      "source": [
        "!pip install deepface"
      ]
    },
    {
      "cell_type": "code",
      "source": [
        "from deepface import DeepFace"
      ],
      "metadata": {
        "id": "I4NTQ93O6DKu"
      },
      "execution_count": null,
      "outputs": []
    },
    {
      "cell_type": "code",
      "source": [
        "verification = DeepFace.verify(img1_path=\"/content/Vijay_at_Protest_of_the_Nadigar_Sangam.jpg\",img2_path=\"/content/101080781.webp\")"
      ],
      "metadata": {
        "id": "hikhPT5s6PYK"
      },
      "execution_count": null,
      "outputs": []
    },
    {
      "cell_type": "code",
      "source": [
        "verification"
      ],
      "metadata": {
        "id": "Aw7GUrJM6zLC"
      },
      "execution_count": null,
      "outputs": []
    },
    {
      "cell_type": "code",
      "source": [
        "analysis = DeepFace.analyze(img_path = \"/content/Vijay_at_Protest_of_the_Nadigar_Sangam.jpg\", actions = [\"age\", \"gender\", \"emotion\", \"race\"])\n",
        "print(analysis)\n"
      ],
      "metadata": {
        "id": "qcxPN06EM2Mj"
      },
      "execution_count": null,
      "outputs": []
    },
    {
      "cell_type": "code",
      "source": [
        "!pip uninstall fastai\n",
        "!pip install fastai"
      ],
      "metadata": {
        "id": "iGHPJOLbmWlz"
      },
      "execution_count": null,
      "outputs": []
    },
    {
      "cell_type": "code",
      "source": [
        "!pip install fastai torchvision torch\n"
      ],
      "metadata": {
        "id": "niBuJlWJfGbq"
      },
      "execution_count": null,
      "outputs": []
    },
    {
      "cell_type": "code",
      "source": [
        "import numpy as np\n",
        "import keras\n",
        "from keras import backend as K\n",
        "from keras.models import Sequential\n",
        "from keras.models import Model\n",
        "from keras.layers import Activation\n",
        "from keras.metrics import categorical_crossentropy\n",
        "from keras.preprocessing.image import ImageDataGenerator\n",
        "from keras.applications.inception_resnet_v2 import InceptionResNetV2\n",
        "from keras.applications.inception_resnet_v2 import preprocess_input\n",
        "from keras.applications.inception_resnet_v2 import decode_predictions\n",
        "from sklearn.metrics import confusion_matrix\n",
        "from sklearn.metrics import average_precision_score\n",
        "from sklearn.metrics import recall_score\n",
        "from sklearn.metrics import precision_score\n",
        "from sklearn.metrics import accuracy_score\n",
        "from sklearn.metrics import classification_report\n",
        "from keras.models import model_from_json\n",
        "import tensorflow as tf\n",
        "import itertools\n",
        "import matplotlib.pyplot as plt\n",
        "import time\n",
        "import pandas as pd\n",
        "%matplotlib inline"
      ],
      "metadata": {
        "id": "DqiGrsur1FB4"
      },
      "execution_count": null,
      "outputs": []
    },
    {
      "cell_type": "code",
      "source": [
        "\n"
      ],
      "metadata": {
        "colab": {
          "base_uri": "https://localhost:8080/",
          "height": 321
        },
        "id": "mwwzE5R1y0H1",
        "outputId": "f47457eb-7170-4b27-ab5e-6e0b8bd3e9b1"
      },
      "execution_count": null,
      "outputs": [
        {
          "output_type": "error",
          "ename": "KeyError",
          "evalue": "'block35_1'",
          "traceback": [
            "\u001b[0;31m---------------------------------------------------------------------------\u001b[0m",
            "\u001b[0;31mKeyError\u001b[0m                                  Traceback (most recent call last)",
            "\u001b[0;32m<ipython-input-13-4280ccb226da>\u001b[0m in \u001b[0;36m<cell line: 18>\u001b[0;34m()\u001b[0m\n\u001b[1;32m     16\u001b[0m \u001b[0;34m\u001b[0m\u001b[0m\n\u001b[1;32m     17\u001b[0m \u001b[0;31m# Load the model with the modified JSON\u001b[0m\u001b[0;34m\u001b[0m\u001b[0;34m\u001b[0m\u001b[0m\n\u001b[0;32m---> 18\u001b[0;31m \u001b[0mmodel\u001b[0m \u001b[0;34m=\u001b[0m \u001b[0mmodel_from_json\u001b[0m\u001b[0;34m(\u001b[0m\u001b[0mmodified_model_json\u001b[0m\u001b[0;34m)\u001b[0m\u001b[0;34m\u001b[0m\u001b[0;34m\u001b[0m\u001b[0m\n\u001b[0m",
            "\u001b[0;32m/usr/local/lib/python3.10/dist-packages/keras/src/saving/legacy/model_config.py\u001b[0m in \u001b[0;36mmodel_from_json\u001b[0;34m(json_string, custom_objects)\u001b[0m\n\u001b[1;32m    123\u001b[0m     )\n\u001b[1;32m    124\u001b[0m \u001b[0;34m\u001b[0m\u001b[0m\n\u001b[0;32m--> 125\u001b[0;31m     \u001b[0;32mreturn\u001b[0m \u001b[0mdeserialize_from_json\u001b[0m\u001b[0;34m(\u001b[0m\u001b[0mjson_string\u001b[0m\u001b[0;34m,\u001b[0m \u001b[0mcustom_objects\u001b[0m\u001b[0;34m=\u001b[0m\u001b[0mcustom_objects\u001b[0m\u001b[0;34m)\u001b[0m\u001b[0;34m\u001b[0m\u001b[0;34m\u001b[0m\u001b[0m\n\u001b[0m\u001b[1;32m    126\u001b[0m \u001b[0;34m\u001b[0m\u001b[0m\n",
            "\u001b[0;32m/usr/local/lib/python3.10/dist-packages/keras/src/layers/serialization.py\u001b[0m in \u001b[0;36mdeserialize_from_json\u001b[0;34m(json_string, custom_objects)\u001b[0m\n\u001b[1;32m    297\u001b[0m         \u001b[0mcustom_objects\u001b[0m\u001b[0;34m=\u001b[0m\u001b[0mcustom_objects\u001b[0m\u001b[0;34m,\u001b[0m\u001b[0;34m\u001b[0m\u001b[0;34m\u001b[0m\u001b[0m\n\u001b[1;32m    298\u001b[0m     )\n\u001b[0;32m--> 299\u001b[0;31m     \u001b[0;32mreturn\u001b[0m \u001b[0mdeserialize\u001b[0m\u001b[0;34m(\u001b[0m\u001b[0mconfig\u001b[0m\u001b[0;34m,\u001b[0m \u001b[0mcustom_objects\u001b[0m\u001b[0;34m)\u001b[0m\u001b[0;34m\u001b[0m\u001b[0;34m\u001b[0m\u001b[0m\n\u001b[0m\u001b[1;32m    300\u001b[0m \u001b[0;34m\u001b[0m\u001b[0m\n",
            "\u001b[0;32m/usr/local/lib/python3.10/dist-packages/keras/src/layers/serialization.py\u001b[0m in \u001b[0;36mdeserialize\u001b[0;34m(config, custom_objects, use_legacy_format)\u001b[0m\n\u001b[1;32m    274\u001b[0m         )\n\u001b[1;32m    275\u001b[0m \u001b[0;34m\u001b[0m\u001b[0m\n\u001b[0;32m--> 276\u001b[0;31m     return serialization_lib.deserialize_keras_object(\n\u001b[0m\u001b[1;32m    277\u001b[0m         \u001b[0mconfig\u001b[0m\u001b[0;34m,\u001b[0m\u001b[0;34m\u001b[0m\u001b[0;34m\u001b[0m\u001b[0m\n\u001b[1;32m    278\u001b[0m         \u001b[0mmodule_objects\u001b[0m\u001b[0;34m=\u001b[0m\u001b[0mLOCAL\u001b[0m\u001b[0;34m.\u001b[0m\u001b[0mALL_OBJECTS\u001b[0m\u001b[0;34m,\u001b[0m\u001b[0;34m\u001b[0m\u001b[0;34m\u001b[0m\u001b[0m\n",
            "\u001b[0;32m/usr/local/lib/python3.10/dist-packages/keras/src/saving/serialization_lib.py\u001b[0m in \u001b[0;36mdeserialize_keras_object\u001b[0;34m(config, custom_objects, safe_mode, **kwargs)\u001b[0m\n\u001b[1;32m    607\u001b[0m                     \u001b[0mcustom_objects\u001b[0m\u001b[0;34m=\u001b[0m\u001b[0mcustom_objects\u001b[0m\u001b[0;34m,\u001b[0m\u001b[0;34m\u001b[0m\u001b[0;34m\u001b[0m\u001b[0m\n\u001b[1;32m    608\u001b[0m                 )\n\u001b[0;32m--> 609\u001b[0;31m             return deserialize_keras_object(\n\u001b[0m\u001b[1;32m    610\u001b[0m                 serialize_with_public_class(\n\u001b[1;32m    611\u001b[0m                     \u001b[0mmodule_objects\u001b[0m\u001b[0;34m[\u001b[0m\u001b[0mconfig\u001b[0m\u001b[0;34m]\u001b[0m\u001b[0;34m,\u001b[0m \u001b[0minner_config\u001b[0m\u001b[0;34m=\u001b[0m\u001b[0minner_config\u001b[0m\u001b[0;34m\u001b[0m\u001b[0;34m\u001b[0m\u001b[0m\n",
            "\u001b[0;32m/usr/local/lib/python3.10/dist-packages/keras/src/saving/serialization_lib.py\u001b[0m in \u001b[0;36mdeserialize_keras_object\u001b[0;34m(config, custom_objects, safe_mode, **kwargs)\u001b[0m\n\u001b[1;32m    726\u001b[0m     \u001b[0msafe_mode_scope\u001b[0m \u001b[0;34m=\u001b[0m \u001b[0mSafeModeScope\u001b[0m\u001b[0;34m(\u001b[0m\u001b[0msafe_mode\u001b[0m\u001b[0;34m)\u001b[0m\u001b[0;34m\u001b[0m\u001b[0;34m\u001b[0m\u001b[0m\n\u001b[1;32m    727\u001b[0m     \u001b[0;32mwith\u001b[0m \u001b[0mcustom_obj_scope\u001b[0m\u001b[0;34m,\u001b[0m \u001b[0msafe_mode_scope\u001b[0m\u001b[0;34m:\u001b[0m\u001b[0;34m\u001b[0m\u001b[0;34m\u001b[0m\u001b[0m\n\u001b[0;32m--> 728\u001b[0;31m         \u001b[0minstance\u001b[0m \u001b[0;34m=\u001b[0m \u001b[0mcls\u001b[0m\u001b[0;34m.\u001b[0m\u001b[0mfrom_config\u001b[0m\u001b[0;34m(\u001b[0m\u001b[0minner_config\u001b[0m\u001b[0;34m)\u001b[0m\u001b[0;34m\u001b[0m\u001b[0;34m\u001b[0m\u001b[0m\n\u001b[0m\u001b[1;32m    729\u001b[0m         \u001b[0mbuild_config\u001b[0m \u001b[0;34m=\u001b[0m \u001b[0mconfig\u001b[0m\u001b[0;34m.\u001b[0m\u001b[0mget\u001b[0m\u001b[0;34m(\u001b[0m\u001b[0;34m\"build_config\"\u001b[0m\u001b[0;34m,\u001b[0m \u001b[0;32mNone\u001b[0m\u001b[0;34m)\u001b[0m\u001b[0;34m\u001b[0m\u001b[0;34m\u001b[0m\u001b[0m\n\u001b[1;32m    730\u001b[0m         \u001b[0;32mif\u001b[0m \u001b[0mbuild_config\u001b[0m\u001b[0;34m:\u001b[0m\u001b[0;34m\u001b[0m\u001b[0;34m\u001b[0m\u001b[0m\n",
            "\u001b[0;32m/usr/local/lib/python3.10/dist-packages/keras/src/engine/training.py\u001b[0m in \u001b[0;36mfrom_config\u001b[0;34m(cls, config, custom_objects)\u001b[0m\n\u001b[1;32m   3328\u001b[0m                 \u001b[0;31m# Revive Functional model\u001b[0m\u001b[0;34m\u001b[0m\u001b[0;34m\u001b[0m\u001b[0m\n\u001b[1;32m   3329\u001b[0m                 \u001b[0;31m# (but not Functional subclasses with a custom __init__)\u001b[0m\u001b[0;34m\u001b[0m\u001b[0;34m\u001b[0m\u001b[0m\n\u001b[0;32m-> 3330\u001b[0;31m                 inputs, outputs, layers = functional.reconstruct_from_config(\n\u001b[0m\u001b[1;32m   3331\u001b[0m                     \u001b[0mconfig\u001b[0m\u001b[0;34m,\u001b[0m \u001b[0mcustom_objects\u001b[0m\u001b[0;34m\u001b[0m\u001b[0;34m\u001b[0m\u001b[0m\n\u001b[1;32m   3332\u001b[0m                 )\n",
            "\u001b[0;32m/usr/local/lib/python3.10/dist-packages/keras/src/engine/functional.py\u001b[0m in \u001b[0;36mreconstruct_from_config\u001b[0;34m(config, custom_objects, created_layers)\u001b[0m\n\u001b[1;32m   1503\u001b[0m                 \u001b[0;32mwhile\u001b[0m \u001b[0mlayer_nodes\u001b[0m\u001b[0;34m:\u001b[0m\u001b[0;34m\u001b[0m\u001b[0;34m\u001b[0m\u001b[0m\n\u001b[1;32m   1504\u001b[0m                     \u001b[0mnode_data\u001b[0m \u001b[0;34m=\u001b[0m \u001b[0mlayer_nodes\u001b[0m\u001b[0;34m[\u001b[0m\u001b[0;36m0\u001b[0m\u001b[0;34m]\u001b[0m\u001b[0;34m\u001b[0m\u001b[0;34m\u001b[0m\u001b[0m\n\u001b[0;32m-> 1505\u001b[0;31m                     \u001b[0;32mif\u001b[0m \u001b[0mprocess_node\u001b[0m\u001b[0;34m(\u001b[0m\u001b[0mlayer\u001b[0m\u001b[0;34m,\u001b[0m \u001b[0mnode_data\u001b[0m\u001b[0;34m)\u001b[0m\u001b[0;34m:\u001b[0m\u001b[0;34m\u001b[0m\u001b[0;34m\u001b[0m\u001b[0m\n\u001b[0m\u001b[1;32m   1506\u001b[0m                         \u001b[0mlayer_nodes\u001b[0m\u001b[0;34m.\u001b[0m\u001b[0mpop\u001b[0m\u001b[0;34m(\u001b[0m\u001b[0;36m0\u001b[0m\u001b[0;34m)\u001b[0m\u001b[0;34m\u001b[0m\u001b[0;34m\u001b[0m\u001b[0m\n\u001b[1;32m   1507\u001b[0m                     \u001b[0;32melse\u001b[0m\u001b[0;34m:\u001b[0m\u001b[0;34m\u001b[0m\u001b[0;34m\u001b[0m\u001b[0m\n",
            "\u001b[0;32m/usr/local/lib/python3.10/dist-packages/keras/src/engine/functional.py\u001b[0m in \u001b[0;36mprocess_node\u001b[0;34m(layer, node_data)\u001b[0m\n\u001b[1;32m   1404\u001b[0m                 \u001b[0minbound_node_index\u001b[0m \u001b[0;34m=\u001b[0m \u001b[0minput_data\u001b[0m\u001b[0;34m[\u001b[0m\u001b[0;36m1\u001b[0m\u001b[0;34m]\u001b[0m\u001b[0;34m\u001b[0m\u001b[0;34m\u001b[0m\u001b[0m\n\u001b[1;32m   1405\u001b[0m                 \u001b[0minbound_tensor_index\u001b[0m \u001b[0;34m=\u001b[0m \u001b[0minput_data\u001b[0m\u001b[0;34m[\u001b[0m\u001b[0;36m2\u001b[0m\u001b[0;34m]\u001b[0m\u001b[0;34m\u001b[0m\u001b[0;34m\u001b[0m\u001b[0m\n\u001b[0;32m-> 1406\u001b[0;31m                 \u001b[0minbound_layer\u001b[0m \u001b[0;34m=\u001b[0m \u001b[0mcreated_layers\u001b[0m\u001b[0;34m[\u001b[0m\u001b[0minbound_layer_name\u001b[0m\u001b[0;34m]\u001b[0m\u001b[0;34m\u001b[0m\u001b[0;34m\u001b[0m\u001b[0m\n\u001b[0m\u001b[1;32m   1407\u001b[0m                 inbound_node_index = get_node_index(\n\u001b[1;32m   1408\u001b[0m                     \u001b[0minbound_layer\u001b[0m\u001b[0;34m,\u001b[0m \u001b[0minbound_node_index\u001b[0m\u001b[0;34m\u001b[0m\u001b[0;34m\u001b[0m\u001b[0m\n",
            "\u001b[0;31mKeyError\u001b[0m: 'block35_1'"
          ]
        }
      ]
    },
    {
      "cell_type": "code",
      "source": [
        "flowers = tf.keras.models.load_model('/content/drive/MyDrive/20240303_055813_InceptionTutorial_3_LAST_WEIGHTS_.h5')"
      ],
      "metadata": {
        "id": "mCCvBDfHTCJh",
        "colab": {
          "base_uri": "https://localhost:8080/",
          "height": 304
        },
        "outputId": "df68c427-afe0-45a9-d517-9f36d3d47b7b"
      },
      "execution_count": null,
      "outputs": [
        {
          "output_type": "error",
          "ename": "ValueError",
          "evalue": "No model config found in the file at <tensorflow.python.platform.gfile.GFile object at 0x78c8966ff3a0>.",
          "traceback": [
            "\u001b[0;31m---------------------------------------------------------------------------\u001b[0m",
            "\u001b[0;31mValueError\u001b[0m                                Traceback (most recent call last)",
            "\u001b[0;32m<ipython-input-2-6ee75bdf51de>\u001b[0m in \u001b[0;36m<cell line: 1>\u001b[0;34m()\u001b[0m\n\u001b[0;32m----> 1\u001b[0;31m \u001b[0mflowers\u001b[0m \u001b[0;34m=\u001b[0m \u001b[0mtf\u001b[0m\u001b[0;34m.\u001b[0m\u001b[0mkeras\u001b[0m\u001b[0;34m.\u001b[0m\u001b[0mmodels\u001b[0m\u001b[0;34m.\u001b[0m\u001b[0mload_model\u001b[0m\u001b[0;34m(\u001b[0m\u001b[0;34m'/content/drive/MyDrive/20240303_055813_InceptionTutorial_3_LAST_WEIGHTS_.h5'\u001b[0m\u001b[0;34m)\u001b[0m\u001b[0;34m\u001b[0m\u001b[0;34m\u001b[0m\u001b[0m\n\u001b[0m",
            "\u001b[0;32m/usr/local/lib/python3.10/dist-packages/keras/src/saving/saving_api.py\u001b[0m in \u001b[0;36mload_model\u001b[0;34m(filepath, custom_objects, compile, safe_mode, **kwargs)\u001b[0m\n\u001b[1;32m    260\u001b[0m \u001b[0;34m\u001b[0m\u001b[0m\n\u001b[1;32m    261\u001b[0m     \u001b[0;31m# Legacy case.\u001b[0m\u001b[0;34m\u001b[0m\u001b[0;34m\u001b[0m\u001b[0m\n\u001b[0;32m--> 262\u001b[0;31m     return legacy_sm_saving_lib.load_model(\n\u001b[0m\u001b[1;32m    263\u001b[0m         \u001b[0mfilepath\u001b[0m\u001b[0;34m,\u001b[0m \u001b[0mcustom_objects\u001b[0m\u001b[0;34m=\u001b[0m\u001b[0mcustom_objects\u001b[0m\u001b[0;34m,\u001b[0m \u001b[0mcompile\u001b[0m\u001b[0;34m=\u001b[0m\u001b[0mcompile\u001b[0m\u001b[0;34m,\u001b[0m \u001b[0;34m**\u001b[0m\u001b[0mkwargs\u001b[0m\u001b[0;34m\u001b[0m\u001b[0;34m\u001b[0m\u001b[0m\n\u001b[1;32m    264\u001b[0m     )\n",
            "\u001b[0;32m/usr/local/lib/python3.10/dist-packages/keras/src/utils/traceback_utils.py\u001b[0m in \u001b[0;36merror_handler\u001b[0;34m(*args, **kwargs)\u001b[0m\n\u001b[1;32m     68\u001b[0m             \u001b[0;31m# To get the full stack trace, call:\u001b[0m\u001b[0;34m\u001b[0m\u001b[0;34m\u001b[0m\u001b[0m\n\u001b[1;32m     69\u001b[0m             \u001b[0;31m# `tf.debugging.disable_traceback_filtering()`\u001b[0m\u001b[0;34m\u001b[0m\u001b[0;34m\u001b[0m\u001b[0m\n\u001b[0;32m---> 70\u001b[0;31m             \u001b[0;32mraise\u001b[0m \u001b[0me\u001b[0m\u001b[0;34m.\u001b[0m\u001b[0mwith_traceback\u001b[0m\u001b[0;34m(\u001b[0m\u001b[0mfiltered_tb\u001b[0m\u001b[0;34m)\u001b[0m \u001b[0;32mfrom\u001b[0m \u001b[0;32mNone\u001b[0m\u001b[0;34m\u001b[0m\u001b[0;34m\u001b[0m\u001b[0m\n\u001b[0m\u001b[1;32m     71\u001b[0m         \u001b[0;32mfinally\u001b[0m\u001b[0;34m:\u001b[0m\u001b[0;34m\u001b[0m\u001b[0;34m\u001b[0m\u001b[0m\n\u001b[1;32m     72\u001b[0m             \u001b[0;32mdel\u001b[0m \u001b[0mfiltered_tb\u001b[0m\u001b[0;34m\u001b[0m\u001b[0;34m\u001b[0m\u001b[0m\n",
            "\u001b[0;32m/usr/local/lib/python3.10/dist-packages/keras/src/saving/legacy/hdf5_format.py\u001b[0m in \u001b[0;36mload_model_from_hdf5\u001b[0;34m(filepath, custom_objects, compile)\u001b[0m\n\u001b[1;32m    195\u001b[0m         \u001b[0mmodel_config\u001b[0m \u001b[0;34m=\u001b[0m \u001b[0mf\u001b[0m\u001b[0;34m.\u001b[0m\u001b[0mattrs\u001b[0m\u001b[0;34m.\u001b[0m\u001b[0mget\u001b[0m\u001b[0;34m(\u001b[0m\u001b[0;34m\"model_config\"\u001b[0m\u001b[0;34m)\u001b[0m\u001b[0;34m\u001b[0m\u001b[0;34m\u001b[0m\u001b[0m\n\u001b[1;32m    196\u001b[0m         \u001b[0;32mif\u001b[0m \u001b[0mmodel_config\u001b[0m \u001b[0;32mis\u001b[0m \u001b[0;32mNone\u001b[0m\u001b[0;34m:\u001b[0m\u001b[0;34m\u001b[0m\u001b[0;34m\u001b[0m\u001b[0m\n\u001b[0;32m--> 197\u001b[0;31m             raise ValueError(\n\u001b[0m\u001b[1;32m    198\u001b[0m                 \u001b[0;34mf\"No model config found in the file at {filepath}.\"\u001b[0m\u001b[0;34m\u001b[0m\u001b[0;34m\u001b[0m\u001b[0m\n\u001b[1;32m    199\u001b[0m             )\n",
            "\u001b[0;31mValueError\u001b[0m: No model config found in the file at <tensorflow.python.platform.gfile.GFile object at 0x78c8966ff3a0>."
          ]
        }
      ]
    },
    {
      "cell_type": "code",
      "source": [
        "!pip install fastai"
      ],
      "metadata": {
        "id": "GHHuRXmM-o9A"
      },
      "execution_count": null,
      "outputs": []
    },
    {
      "cell_type": "code",
      "source": [
        "from fastai.vision.all import *\n",
        "import torch\n",
        "\n",
        "model_weights = torch.load('/content/drive/MyDrive/deepdetect.pth')\n",
        "learn = cnn_learner(data, models.resnet152, metrics=[accuracy])\n",
        "learn.model.load_state_dict(model_weights)\n",
        "learn.model.eval()\n",
        "img = open_image('path_to_your_image.jpg')\n",
        "pred_class,pred_idx,outputs = learn.predict(img)\n",
        "\n"
      ],
      "metadata": {
        "id": "Z2KuMNzdS4ud"
      },
      "execution_count": null,
      "outputs": []
    },
    {
      "cell_type": "code",
      "source": [
        "from tensorflow.keras.models import load_model"
      ],
      "metadata": {
        "id": "__3i-Qda9ZdV"
      },
      "execution_count": null,
      "outputs": []
    },
    {
      "cell_type": "code",
      "source": [
        "\n",
        "loaded_model = load_model(\"/content/drive/MyDrive/deep model/model (1).h5\")"
      ],
      "metadata": {
        "id": "GBJsa6F7yk4I"
      },
      "execution_count": null,
      "outputs": []
    },
    {
      "cell_type": "code",
      "source": [
        "import cv2\n",
        "import numpy as np\n",
        "\n",
        "# Load the image\n",
        "image_path = \"/content/fake_1008.jpg\"\n",
        "image = cv2.imread(image_path)\n",
        "\n",
        "# Resize the image to match the input shape of the model\n",
        "resized_image = cv2.resize(image, (256, 256))\n",
        "\n",
        "# Normalize the pixel values to be in the range [0, 1]\n",
        "normalized_image = resized_image / 255.0\n",
        "\n",
        "# Reshape the image to add a batch dimension\n",
        "input_image = np.expand_dims(normalized_image, axis=0)\n",
        "\n",
        "# Make a prediction using the model\n",
        "prediction = loaded_model.predict(input_image)\n",
        "\n",
        "# Print the prediction\n",
        "if prediction >= 0.5:\n",
        "      print(\"Real\")\n",
        "else:\n",
        "      print(\"Fake\")"
      ],
      "metadata": {
        "colab": {
          "base_uri": "https://localhost:8080/"
        },
        "id": "vkHDP5MEypRq",
        "outputId": "b348b5f4-0aab-4bd0-c007-b820da5cedf1"
      },
      "execution_count": null,
      "outputs": [
        {
          "output_type": "stream",
          "name": "stdout",
          "text": [
            "1/1 [==============================] - 0s 18ms/step\n",
            "Real\n"
          ]
        }
      ]
    },
    {
      "cell_type": "code",
      "source": [
        "from fastai import *\n",
        "from fastai.vision import *\n",
        "import torch\n",
        "from torchvision.models import resnet152\n"
      ],
      "metadata": {
        "id": "NlKsagnizLnM"
      },
      "execution_count": null,
      "outputs": []
    },
    {
      "cell_type": "code",
      "source": [
        "import torch\n",
        "from torchvision.models import resnet152  # or any other model you used\n",
        "\n",
        "# Load the exported learner\n",
        "loc = torch.load('/content/drive/MyDrive/deep model/trained_model.h5.pth')\n",
        "\n",
        "# Build your model with the same architecture used during training\n",
        "model = resnet152(pretrained=False)\n",
        "num_classes = 2  # specify the number of output classes\n",
        "model.fc = torch.nn.Linear(in_features=model.fc.in_features, out_features=num_classes)  # modify the last layer for your task\n",
        "\n",
        "# Load the model weights\n",
        "model.load_state_dict(loc['model'])\n",
        "\n",
        "# Set the model to evaluation mode\n",
        "model.eval()\n"
      ],
      "metadata": {
        "colab": {
          "base_uri": "https://localhost:8080/",
          "height": 799
        },
        "id": "vX4d-ahDyOIc",
        "outputId": "b021734e-4658-4a11-f6a9-8fffcee83c59"
      },
      "execution_count": null,
      "outputs": [
        {
          "output_type": "error",
          "ename": "RuntimeError",
          "evalue": "Error(s) in loading state_dict for ResNet:\n\tMissing key(s) in state_dict: \"conv1.weight\", \"bn1.weight\", \"bn1.bias\", \"bn1.running_mean\", \"bn1.running_var\", \"layer1.0.conv1.weight\", \"layer1.0.bn1.weight\", \"layer1.0.bn1.bias\", \"layer1.0.bn1.running_mean\", \"layer1.0.bn1.running_var\", \"layer1.0.conv2.weight\", \"layer1.0.bn2.weight\", \"layer1.0.bn2.bias\", \"layer1.0.bn2.running_mean\", \"layer1.0.bn2.running_var\", \"layer1.0.conv3.weight\", \"layer1.0.bn3.weight\", \"layer1.0.bn3.bias\", \"layer1.0.bn3.running_mean\", \"layer1.0.bn3.running_var\", \"layer1.0.downsample.0.weight\", \"layer1.0.downsample.1.weight\", \"layer1.0.downsample.1.bias\", \"layer1.0.downsample.1.running_mean\", \"layer1.0.downsample.1.running_var\", \"layer1.1.conv1.weight\", \"layer1.1.bn1.weight\", \"layer1.1.bn1.bias\", \"layer1.1.bn1.running_mean\", \"layer1.1.bn1.running_var\", \"layer1.1.conv2.weight\", \"layer1.1.bn2.weight\", \"layer1.1.bn2.bias\", \"layer1.1.bn2.running_mean\", \"layer1.1.bn2.running_var\", \"layer1.1.conv3.weight\", \"layer1.1.bn3.weight\", \"layer1.1.bn3.bias\", \"layer1.1.bn3.running_mean\", \"layer1.1.bn3.running_var\", \"layer1.2.conv1.weight\", \"layer1.2.bn1.weight\", \"layer1.2.bn1.bias\", \"layer1.2.bn1.running_mean\", \"layer1.2.bn1.running_var\", \"layer1.2.conv2.weight\", \"layer1.2.bn2.weight\", \"layer1.2.bn2.bias\", \"layer1.2.bn2.running_mean\", \"layer1.2.bn2.running_var\", \"layer1.2.conv3.weight\", \"layer1.2.bn3.weight\", \"layer1.2.bn3.bias\", \"layer1.2.bn3.running_mean\", \"layer1.2.bn3.running_var\", \"layer2.0.conv1.weight\", \"layer2.0.bn1.weight\", \"layer2.0.bn1.bias\", \"layer2.0.bn1.running_mean\", \"layer2.0.bn1.running_var\", \"layer2.0.conv2.weight\", \"layer2.0.bn2.weight\", \"layer2.0.bn2.bias\", \"layer2.0.bn2.running_mean\", \"layer2.0.bn2.running_var\", \"layer2.0.conv3.weight\", \"layer2.0.bn3.weight\", \"layer2.0.bn3.bias\", \"layer2.0.bn3.running_mean\", \"layer2.0.bn3.running_var\", \"layer2.0.downsample.0.weight\", \"layer2.0.downsample.1.weight\", \"layer2.0.downsample.1.bias\", \"layer2.0.downsample.1.running_mean\", \"layer2.0.downsample.1.running_var\", \"layer2.1.conv1.weight\", \"layer2.1.bn1.weight\", \"layer2.1.bn1.bias\", \"layer2.1.bn1.running_mean\", \"layer2.1.bn1.running_var\", \"layer2.1.conv2.weight\", \"layer2.1.bn2.weight\", \"layer2.1.bn2.bias\", \"layer2.1.bn2.running_mean\", \"layer2.1.bn2.running_var\", \"layer2.1.conv3.weight\", \"layer2.1.bn3.weight\", \"layer2.1.bn3.bias\", \"layer2.1.bn3.running_mean\", \"layer2.1.bn3.running_var\", \"layer2.2.conv1.weight\", \"layer2.2.bn1.weight\", \"layer2.2.bn1.bias\", \"layer2.2.bn1.running_mean\", \"layer2.2.bn1.running_var\", \"layer2.2.conv2.weight\", \"layer2.2.bn2.weight\", \"layer2.2.bn2.bias\", \"layer2.2.bn2.running_mean\", \"layer2.2.bn2.running_var\", \"layer2.2.conv3.weight\", \"layer2.2.bn3.weight\", \"layer2.2.bn3.bias\", \"layer2.2.bn3.running_mean\", \"layer2.2.bn3.running_var\", \"layer2.3.conv1.weight\", \"layer2.3.bn1.weight\", \"layer2.3.bn1.bias\", \"layer2.3.bn1.running_mean\", \"layer2.3.bn1.running_var\", \"layer2.3.conv2.weight\", \"layer2.3.bn2.weight\", \"layer2.3.bn2.bias\", \"layer2.3.bn2.running_mean\", \"layer2.3.bn2.running_var\", \"layer2.3.conv3.weight\", \"layer2.3.bn3.weight\", \"layer2.3.bn3.bias\", \"layer2.3.bn3.running_mean\", \"layer2.3.bn3.running_var\", \"layer2.4.conv1.weight\", \"layer2.4.bn1.weight\", \"layer2.4.bn1.bias\", \"layer2.4.bn1.running_mean\", \"layer2.4.bn1.running_var\", \"layer2.4.conv2.weight\", \"layer2.4.bn2.weight\", \"layer2.4.bn2.bias\", \"layer2.4.bn2.running_mean\", \"layer2.4.bn2.running_var\", \"layer2.4.conv3.weight\", \"layer2.4.bn3.weight\", \"layer2.4.bn3.bias\", \"layer2.4.bn3.running_mean\", \"layer2.4.bn3.running_var\", \"layer2.5.conv1.weight\", \"layer2.5.bn1.weight\", \"layer2.5.bn1.bias\", \"layer2.5.bn1.running_mean\", \"layer2.5.bn1.running_var\", \"layer2.5.conv2.weight\", \"layer2.5.bn2.weight\", \"layer2.5.bn2.bias\", \"layer2.5.bn2.running_mean\", \"layer2.5.bn2.running_var\", \"layer2.5.conv3.weight\", \"layer2.5.bn3.weight\", \"layer2.5.bn3.bias\", \"layer2.5.bn3.running_mean\", \"layer2.5.bn3.running_var\", \"layer2.6.conv1.weight\", \"layer2.6.bn1.weight\", \"layer2.6.bn1.bias\", \"layer2.6.bn1.running_mean\", \"layer2.6.bn1.running_var\", \"layer2.6.conv2.weight\", \"layer2.6.bn2.weight\", \"layer2.6.bn2.bias\", \"layer2.6.bn2.running_mean\", \"layer2.6.bn2.running_var\", \"layer2.6.conv3.weight\", \"layer2.6.bn3.weight\", \"layer2.6.bn3.bias\", \"layer2.6.bn3.running_mean\", \"layer2.6.bn3.running_var\", \"layer2.7.conv1.weight\", \"layer2.7.bn1.weight\", \"layer2.7.bn1.bias\", \"layer2.7.bn1.running_mean\", \"layer2.7.bn1.running_var\", \"layer2.7.conv2.weight\", \"layer2.7.bn2.weight\", \"layer2.7.bn2.bias\", \"layer2.7.bn2.running_mean\", \"layer2.7.bn2.running_var\", \"layer2.7.conv3.weight\", \"layer2.7.bn3.weight\", \"layer2.7.bn3.bias\", \"layer2.7.bn3.running_mean\", \"layer2.7.bn3.running_var\", \"layer3.0.conv1.weight\", \"layer3.0.bn1.weight\", \"layer3.0.bn1.bias\", \"layer3.0.bn1.running_mean\", \"layer3.0.bn1.running_var\", \"layer3.0.conv2.weight\", \"layer3.0.bn2.weight\", \"layer3.0.bn2.bias\", \"layer3.0.bn2.running_mean\", \"layer3.0.bn2.running_var\", \"layer3.0.conv3.weight\", \"layer3.0.bn3.weight\", \"layer3.0.bn3.bias\", \"layer3.0.bn3.running_mean\", \"layer3.0.bn3.running_var\", \"layer3.0.downsample.0.weight\", \"layer3.0.downsample.1.weight\", \"layer3.0.downsample.1.bias\", \"layer3.0.downsample.1.running_mean\", \"layer3.0.downsample.1.running_var\", \"layer3.1.conv1.weight\", \"layer3.1.bn1.weight\", \"layer3.1.bn1.bias\", \"layer3.1.bn1.running_mean\", \"layer3.1.bn1.running_var\", \"layer3.1.conv2.weight\", \"layer3.1.bn2.weight\", \"layer3.1.bn2.bias\", \"layer3.1.bn2.running_mean\", \"layer3.1.bn2.running_var\", \"layer3.1.conv3.weight\", \"layer3.1.bn3.weight\", \"layer3.1.bn3.bias\", \"layer3.1.bn3.running_mean\", \"layer3.1.bn3.running_var\", \"layer3.2.conv1.weight\", \"layer3.2.bn1.weight\", \"layer3.2.bn1.bias\", \"layer3.2.bn1.running_mean\", \"layer3.2.bn1.running_var\", \"layer3.2.conv2.weight\", \"layer3.2.bn2.weight\", \"layer3.2.bn2.bias\", \"layer3.2.bn2.running_mean\", \"layer3.2.bn2.running_var\", \"layer3.2.conv3.weight\", \"layer3.2.bn3.weight\", \"layer3.2.bn3.bias\", \"layer3.2.bn3.running_mean\", \"layer3.2.bn3.running_var\", \"layer3.3.conv1.weight\", \"layer3.3.bn1.weight\", \"layer3.3.bn1.bias\", \"layer3.3.bn1.running_mean\", \"layer3.3.bn1.running_var\", \"layer3.3.conv2.weight\", \"layer3.3.bn2.weight\", \"layer3.3.bn2.bias\", \"layer3.3.bn2.running_mean\", \"layer3.3.bn2.running_var\", \"layer3.3.conv3.weight\", \"layer3.3.bn3.weight\", \"layer3.3.bn3.bias\", \"layer3.3.bn3.running_mean\", \"layer3.3.bn3.running_var\", \"layer3.4.conv1.weight\", \"layer3.4.bn1.weight\", \"layer3.4.bn1.bias\", \"layer3.4.bn1.running_mean\", \"layer3.4.bn1.running_var\", \"layer3.4.conv2.weight\", \"layer3.4.bn2.weight\", \"layer3.4.bn2.bias\", \"layer3.4.bn2.running_mean\", \"layer3.4.bn2.running_var\", \"layer3.4.conv3.weight\", \"layer3.4.bn3.weight\", \"layer3.4.bn3.bias\", \"layer3.4.bn3.running_mean\", \"layer3.4.bn3.running_var\", \"layer3.5.conv1.weight\", \"layer3.5.bn1.weight\", \"layer3.5.bn1.bias\", \"layer3.5.bn1.running_mean\", \"layer3.5.bn1.running_var\", \"layer3.5.conv2.weight\", \"layer3.5.bn2.weight\", \"layer3.5.bn2.bias\", \"layer3.5.bn2.running_mean\", \"layer3.5.bn2.running_var\", \"layer3.5.conv3.weight\", \"layer3.5.bn3.weight\", \"layer3.5.bn3.bias\", \"layer3.5.bn3.running_mean\", \"layer3.5.bn3.running_var\", \"layer3.6.conv1.weight\", \"layer3.6.bn1.weight\", \"layer3.6.bn1.bias\", \"layer3.6.bn1.running_mean\", \"layer3.6.bn1.running_var\", \"layer3.6.conv2.weight\", \"layer3.6.bn2.weight\", \"layer3.6.bn2.bias\", \"layer3.6.bn2.running_mean\", \"layer3.6.bn2.running_var\", \"layer3.6.conv3.weight\", \"layer3.6.bn3.weight\", \"layer3.6.bn3.bias\", \"layer3.6.bn3.running_mean\", \"layer3.6.bn3.running_var\", \"layer3.7.conv1.weight\", \"layer3.7.bn1.weight\", \"layer3.7.bn1.bias\", \"layer3.7.bn1.running_mean\", \"layer3.7.bn1.running_var\", \"layer3.7.conv2.weight\", \"layer3.7.bn2.weight\", \"layer3.7.bn2.bias\", \"layer3.7.bn2.running_mean\", \"layer3.7.bn2.running_var\", \"layer3.7.conv3.weight\", \"layer3.7.bn3.weight\", \"layer3.7.bn3.bias\", \"layer3.7.bn3.running_mean\", \"layer3.7.bn3.running_var\", \"layer3.8.conv1.weight\", \"layer3.8.bn1.weight\", \"layer3.8.bn1.bias\", \"layer3.8.bn1.running_mean\", \"layer3.8.bn1.running_var\", \"layer3.8.conv2.weight\", \"layer3.8.bn2.weight\", \"layer3.8.bn2.bias\", \"layer3.8.bn2.running_mean\", \"layer3.8.bn2.running_var\", \"layer3.8.conv3.weight\", \"layer3.8.bn3.weight\", \"layer3.8.bn3.bias\", \"layer3.8.bn3.running_mean\", \"layer3.8.bn3.running_var\", \"layer3.9.conv1.weight\", \"layer3.9.bn1.weight\", \"layer3.9.bn1.bias\", \"layer3.9.bn1.running_mean\", \"layer3.9.bn1.running_var\", \"layer3.9.conv2.weight\", \"layer3.9.bn2.weight\", \"layer3.9.bn2.bias\", \"layer3.9.bn2.running_mean\", \"layer3.9.bn2.running_var\", \"layer3.9.conv3.weight\", \"layer3.9.bn3.weight\", \"layer3.9.bn3.bias\", \"layer3.9.bn3.running_mean\", \"layer3.9.bn3.running_var\", \"layer3.10.conv1.weight\", \"layer3.10.bn1.weight\", \"layer3.10.bn1.bias\", \"layer3.10.bn1.running_mean\", \"layer3.10.bn1.running_var\", \"layer3.10.conv2.weight\", \"layer3.10.bn2.weight\", \"layer3.10.bn2.bias\", \"layer3.10.bn2.running_mean\", \"layer3.10.bn2.running_var\", \"layer3.10.conv3.weight\", \"layer3.10.bn3.weight\", \"layer3.10.bn3.bias\", \"layer3.10.bn3.running_mean\", \"layer3.10.bn3.running_var\", \"layer3.11.conv1.weight\", \"layer3.11.bn1.weight\", \"layer3.11.bn1.bias\", \"layer3.11.bn1.running_mean\", \"layer3.11.bn1.running_var\", \"layer3.11.conv2.weight\", \"layer3.11.bn2.weight\", \"layer3.11.bn2.bias\", \"layer3.11.bn2.running_mean\", \"layer3.11.bn2.running_var\", \"layer3.11.conv3.weight\", \"layer3.11.bn3.weight\", \"layer3.11.bn3.bias\", \"layer3.11.bn3.running_mean\", \"layer3.11.bn3.running_var\", \"layer3.12.conv1.weight\", \"layer3.12.bn1.weight\", \"layer3.12.bn1.bias\", \"layer3.12.bn1.running_mean\", \"layer3.12.bn1.running_var\", \"layer3.12.conv2.weight\", \"layer3.12.bn2.weight\", \"layer3.12.bn2.bias\", \"layer3.12.bn2.running_mean\", \"layer3.12.bn2.running_var\", \"layer3.12.conv3.weight\", \"layer3.12.bn3.weight\", \"layer3.12.bn3.bias\", \"layer3.12.bn3.running_mean\", \"layer3.12.bn3.running_var\", \"layer3.13.conv1.weight\", \"layer3.13.bn1.weight\", \"layer3.13.bn1.bias\", \"layer3.13.bn1.running_mean\", \"layer3.13.bn1.running_var\", \"layer3.13.conv2.weight\", \"layer3.13.bn2.weight\", \"layer3.13.bn2.bias\", \"layer3.13.bn2.running_mean\", \"layer3.13.bn2.running_var\", \"layer3.13.conv3.weight\", \"layer3.13.bn3.weight\", \"layer3.13.bn3.bias\", \"layer3.13.bn3.running_mean\", \"layer3.13.bn3.running_var\", \"layer3.14.conv1.weight\", \"layer3.14.bn1.weight\", \"layer3.14.bn1.bias\", \"layer3.14.bn1.running_mean\", \"layer3.14.bn1.running_var\", \"layer3.14.conv2.weight\", \"layer3.14.bn2.weight\", \"layer3.14.bn2.bias\", \"layer3.14.bn2.running_mean\", \"layer3.14.bn2.running_var\", \"layer3.14.conv3.weight\", \"layer3.14.bn3.weight\", \"layer3.14.bn3.bias\", \"layer3.14.bn3.running_mean\", \"layer3.14.bn3.running_var\", \"layer3.15.conv1.weight\", \"layer3.15.bn1.weight\", \"layer3.15.bn1.bias\", \"layer3.15.bn1.running_mean\", \"layer3.15.bn1.running_var\", \"layer3.15.conv2.weight\", \"layer3.15.bn2.weight\", \"layer3.15.bn2.bias\", \"layer3.15.bn2.running_mean\", \"layer3.15.bn2.running_var\", \"layer3.15.conv3.weight\", \"layer3.15.bn3.weight\", \"layer3.15.bn3.bias\", \"layer3.15.bn3.running_mean\", \"layer3.15.bn3.running_var\", \"layer3.16.conv1.weight\", \"layer3.16.bn1.weight\", \"layer3.16.bn1.bias\", \"layer3.16.bn1.running_mean\", \"layer3.16.bn1.running_var\", \"layer3.16.conv2.weight\", \"layer3.16.bn2.weight\", \"layer3.16.bn2.bias\", \"layer3.16.bn2.running_mean\", \"layer3.16.bn2.running_var\", \"layer3.16.conv3.weight\", \"layer3.16.bn3.weight\", \"layer3.16.bn3.bias\", \"layer3.16.bn3.running_mean\", \"layer3.16.bn3.running_var\", \"layer3.17.conv1.weight\", \"layer3.17.bn1.weight\", \"layer3.17.bn1.bias\", \"layer3.17.bn1.running_mean\", \"layer3.17.bn1.running_var\", \"layer3.17.conv2.weight\", \"layer3.17.bn2.weight\", \"layer3.17.bn2.bias\", \"layer3.17.bn2.running_mean\", \"layer3.17.bn2.running_var\", \"layer3.17.conv3.weight\", \"layer3.17.bn3.weight\", \"layer3.17.bn3.bias\", \"layer3.17.bn3.running_mean\", \"layer3.17.bn3.running_var\", \"layer3.18.conv1.weight\", \"layer3.18.bn1.weight\", \"layer3.18.bn1.bias\", \"layer3.18.bn1.running_mean\", \"layer3.18.bn1.running_var\", \"layer3.18.conv2.weight\", \"layer3.18.bn2.weight\", \"layer3.18.bn2.bias\", \"layer3.18.bn2.running_mean\", \"layer3.18.bn2.running_var\", \"layer3.18.conv3.weight\", \"layer3.18.bn3.weight\", \"layer3.18.bn3.bias\", \"layer3.18.bn3.running_mean\", \"layer3.18.bn3.running_var\", \"layer3.19.conv1.weight\", \"layer3.19.bn1.weight\", \"layer3.19.bn1.bias\", \"layer3.19.bn1.running_mean\", \"layer3.19.bn1.running_var\", \"layer3.19.conv2.weight\", \"layer3.19.bn2.weight\", \"layer3.19.bn2.bias\", \"layer3.19.bn2.running_mean\", \"layer3.19.bn2.running_var\", \"layer3.19.conv3.weight\", \"layer3.19.bn3.weight\", \"layer3.19.bn3.bias\", \"layer3.19.bn3.running_mean\", \"layer3.19.bn3.running_var\", \"layer3.20.conv1.weight\", \"layer3.20.bn1.weight\", \"layer3.20.bn1.bias\", \"layer3.20.bn1.running_mean\", \"layer3.20.bn1.running_var\", \"layer3.20.conv2.weight\", \"layer3.20.bn2.weight\", \"layer3.20.bn2.bias\", \"layer3.20.bn2.running_mean\", \"layer3.20.bn2.running_var\", \"layer3.20.conv3.weight\", \"layer3.20.bn3.weight\", \"layer3.20.bn3.bias\", \"layer3.20.bn3.running_mean\", \"layer3.20.bn3.running_var\", \"layer3.21.conv1.weight\", \"layer3.21.bn1.weight\", \"layer3.21.bn1.bias\", \"layer3.21.bn1.running_mean\", \"layer3.21.bn1.running_var\", \"layer3.21.conv2.weight\", \"layer3.21.bn2.weight\", \"layer3.21.bn2.bias\", \"layer3.21.bn2.running_mean\", \"layer3.21.bn2.running_var\", \"layer3.21.conv3.weight\", \"layer3.21.bn3.weight\", \"layer3.21.bn3.bias\", \"layer3.21.bn3.running_mean\", \"layer3.21.bn3.running_var\", \"layer3.22.conv1.weight\", \"layer3.22.bn1.weight\", \"layer3.22.bn1.bias\", \"layer3.22.bn1.running_mean\", \"layer3.22.bn1.running_var\", \"layer3.22.conv2.weight\", \"layer3.22.bn2.weight\", \"layer3.22.bn2.bias\", \"layer3.22.bn2.running_mean\", \"layer3.22.bn2.running_var\", \"layer3.22.conv3.weight\", \"layer3.22.bn3.weight\", \"layer3.22.bn3.bias\", \"layer3.22.bn3.running_mean\", \"layer3.22.bn3.running_var\", \"layer3.23.conv1.weight\", \"layer3.23.bn1.weight\", \"layer3.23.bn1.bias\", \"layer3.23.bn1.running_mean\", \"layer3.23.bn1.running_var\", \"layer3.23.conv2.weight\", \"layer3.23.bn2.weight\", \"layer3.23.bn2.bias\", \"layer3.23.bn2.running_mean\", \"layer3.23.bn2.running_var\", \"layer3.23.conv3.weight\", \"layer3.23.bn3.weight\", \"layer3.23.bn3.bias\", \"layer3.23.bn3.running_mean\", \"layer3.23.bn3.running_var\", \"layer3.24.conv1.weight\", \"layer3.24.bn1.weight\", \"layer3.24.bn1.bias\", \"layer3.24.bn1.running_mean\", \"layer3.24.bn1.running_var\", \"layer3.24.conv2.weight\", \"layer3.24.bn2.weight\", \"layer3.24.bn2.bias\", \"layer3.24.bn2.running_mean\", \"layer3.24.bn2.running_var\", \"layer3.24.conv3.weight\", \"layer3.24.bn3.weight\", \"layer3.24.bn3.bias\", \"layer3.24.bn3.running_mean\", \"layer3.24.bn3.running_var\", \"layer3.25.conv1.weight\", \"layer3.25.bn1.weight\", \"layer3.25.bn1.bias\", \"layer3.25.bn1.running_mean\", \"layer3.25.bn1.running_var\", \"layer3.25.conv2.weight\", \"layer3.25.bn2.weight\", \"layer3.25.bn2.bias\", \"layer3.25.bn2.running_mean\", \"layer3.25.bn2.running_var\", \"layer3.25.conv3.weight\", \"layer3.25.bn3.weight\", \"layer3.25.bn3.bias\", \"layer3.25.bn3.running_mean\", \"layer3.25.bn3.running_var\", \"layer3.26.conv1.weight\", \"layer3.26.bn1.weight\", \"layer3.26.bn1.bias\", \"layer3.26.bn1.running_mean\", \"layer3.26.bn1.running_var\", \"layer3.26.conv2.weight\", \"layer3.26.bn2.weight\", \"layer3.26.bn2.bias\", \"layer3.26.bn2.running_mean\", \"layer3.26.bn2.running_var\", \"layer3.26.conv3.weight\", \"layer3.26.bn3.weight\", \"layer3.26.bn3.bias\", \"layer3.26.bn3.running_mean\", \"layer3.26.bn3.running_var\", \"layer3.27.conv1.weight\", \"layer3.27.bn1.weight\", \"layer3.27.bn1.bias\", \"layer3.27.bn1.running_mean\", \"layer3.27.bn1.running_var\", \"layer3.27.conv2.weight\", \"layer3.27.bn2.weight\", \"layer3.27.bn2.bias\", \"layer3.27.bn2.running_mean\", \"layer3.27.bn2.running_var\", \"layer3.27.conv3.weight\", \"layer3.27.bn3.weight\", \"layer3.27.bn3.bias\", \"layer3.27.bn3.running_mean\", \"layer3.27.bn3.running_var\", \"layer3.28.conv1.weight\", \"layer3.28.bn1.weight\", \"layer3.28.bn1.bias\", \"layer3.28.bn1.running_mean\", \"layer3.28.bn1.running_var\", \"layer3.28.conv2.weight\", \"layer3.28.bn2.weight\", \"layer3.28.bn2.bias\", \"layer3.28.bn2.running_mean\", \"layer3.28.bn2.running_var\", \"layer3.28.conv3.weight\", \"layer3.28.bn3.weight\", \"layer3.28.bn3.bias\", \"layer3.28.bn3.running_mean\", \"layer3.28.bn3.running_var\", \"layer3.29.conv1.weight\", \"layer3.29.bn1.weight\", \"layer3.29.bn1.bias\", \"layer3.29.bn1.running_mean\", \"layer3.29.bn1.running_var\", \"layer3.29.conv2.weight\", \"layer3.29.bn2.weight\", \"layer3.29.bn2.bias\", \"layer3.29.bn2.running_mean\", \"layer3.29.bn2.running_var\", \"layer3.29.conv3.weight\", \"layer3.29.bn3.weight\", \"layer3.29.bn3.bias\", \"layer3.29.bn3.running_mean\", \"layer3.29.bn3.running_var\", \"layer3.30.conv1.weight\", \"layer3.30.bn1.weight\", \"layer3.30.bn1.bias\", \"layer3.30.bn1.running_mean\", \"layer3.30.bn1.running_var\", \"layer3.30.conv2.weight\", \"layer3.30.bn2.weight\", \"layer3.30.bn2.bias\", \"layer3.30.bn2.running_mean\", \"layer3.30.bn2.running_var\", \"layer3.30.conv3.weight\", \"layer3.30.bn3.weight\", \"layer3.30.bn3.bias\", \"layer3.30.bn3.running_mean\", \"layer3.30.bn3.running_var\", \"layer3.31.conv1.weight\", \"layer3.31.bn1.weight\", \"layer3.31.bn1.bias\", \"layer3.31.bn1.running_mean\", \"layer3.31.bn1.running_var\", \"layer3.31.conv2.weight\", \"layer3.31.bn2.weight\", \"layer3.31.bn2.bias\", \"layer3.31.bn2.running_mean\", \"layer3.31.bn2.running_var\", \"layer3.31.conv3.weight\", \"layer3.31.bn3.weight\", \"layer3.31.bn3.bias\", \"layer3.31.bn3.running_mean\", \"layer3.31.bn3.running_var\", \"layer3.32.conv1.weight\", \"layer3.32.bn1.weight\", \"layer3.32.bn1.bias\", \"layer3.32.bn1.running_mean\", \"layer3.32.bn1.running_var\", \"layer3.32.conv2.weight\", \"layer3.32.bn2.weight\", \"layer3.32.bn2.bias\", \"layer3.32.bn2.running_mean\", \"layer3.32.bn2.running_var\", \"layer3.32.conv3.weight\", \"layer3.32.bn3.weight\", \"layer3.32.bn3.bias\", \"layer3.32.bn3.running_mean\", \"layer3.32.bn3.running_var\", \"layer3.33.conv1.weight\", \"layer3.33.bn1.weight\", \"layer3.33.bn1.bias\", \"layer3.33.bn1.running_mean\", \"layer3.33.bn1.running_var\", \"layer3.33.conv2.weight\", \"layer3.33.bn2.weight\", \"layer3.33.bn2.bias\", \"layer3.33.bn2.running_mean\", \"layer3.33.bn2.running_var\", \"layer3.33.conv3.weight\", \"layer3.33.bn3.weight\", \"layer3.33.bn3.bias\", \"layer3.33.bn3.running_mean\", \"layer3.33.bn3.running_var\", \"layer3.34.conv1.weight\", \"layer3.34.bn1.weight\", \"layer3.34.bn1.bias\", \"layer3.34.bn1.running_mean\", \"layer3.34.bn1.running_var\", \"layer3.34.conv2.weight\", \"layer3.34.bn2.weight\", \"layer3.34.bn2.bias\", \"layer3.34.bn2.running_mean\", \"layer3.34.bn2.running_var\", \"layer3.34.conv3.weight\", \"layer3.34.bn3.weight\", \"layer3.34.bn3.bias\", \"layer3.34.bn3.running_mean\", \"layer3.34.bn3.running_var\", \"layer3.35.conv1.weight\", \"layer3.35.bn1.weight\", \"layer3.35.bn1.bias\", \"layer3.35.bn1.running_mean\", \"layer3.35.bn1.running_var\", \"layer3.35.conv2.weight\", \"layer3.35.bn2.weight\", \"layer3.35.bn2.bias\", \"layer3.35.bn2.running_mean\", \"layer3.35.bn2.running_var\", \"layer3.35.conv3.weight\", \"layer3.35.bn3.weight\", \"layer3.35.bn3.bias\", \"layer3.35.bn3.running_mean\", \"layer3.35.bn3.running_var\", \"layer4.0.conv1.weight\", \"layer4.0.bn1.weight\", \"layer4.0.bn1.bias\", \"layer4.0.bn1.running_mean\", \"layer4.0.bn1.running_var\", \"layer4.0.conv2.weight\", \"layer4.0.bn2.weight\", \"layer4.0.bn2.bias\", \"layer4.0.bn2.running_mean\", \"layer4.0.bn2.running_var\", \"layer4.0.conv3.weight\", \"layer4.0.bn3.weight\", \"layer4.0.bn3.bias\", \"layer4.0.bn3.running_mean\", \"layer4.0.bn3.running_var\", \"layer4.0.downsample.0.weight\", \"layer4.0.downsample.1.weight\", \"layer4.0.downsample.1.bias\", \"layer4.0.downsample.1.running_mean\", \"layer4.0.downsample.1.running_var\", \"layer4.1.conv1.weight\", \"layer4.1.bn1.weight\", \"layer4.1.bn1.bias\", \"layer4.1.bn1.running_mean\", \"layer4.1.bn1.running_var\", \"layer4.1.conv2.weight\", \"layer4.1.bn2.weight\", \"layer4.1.bn2.bias\", \"layer4.1.bn2.running_mean\", \"layer4.1.bn2.running_var\", \"layer4.1.conv3.weight\", \"layer4.1.bn3.weight\", \"layer4.1.bn3.bias\", \"layer4.1.bn3.running_mean\", \"layer4.1.bn3.running_var\", \"layer4.2.conv1.weight\", \"layer4.2.bn1.weight\", \"layer4.2.bn1.bias\", \"layer4.2.bn1.running_mean\", \"layer4.2.bn1.running_var\", \"layer4.2.conv2.weight\", \"layer4.2.bn2.weight\", \"layer4.2.bn2.bias\", \"layer4.2.bn2.running_mean\", \"layer4.2.bn2.running_var\", \"layer4.2.conv3.weight\", \"layer4.2.bn3.weight\", \"layer4.2.bn3.bias\", \"layer4.2.bn3.running_mean\", \"layer4.2.bn3.running_var\", \"fc.weight\", \"fc.bias\". \n\tUnexpected key(s) in state_dict: \"0.0.weight\", \"0.1.weight\", \"0.1.bias\", \"0.1.running_mean\", \"0.1.running_var\", \"0.1.num_batches_tracked\", \"0.4.0.conv1.weight\", \"0.4.0.bn1.weight\", \"0.4.0.bn1.bias\", \"0.4.0.bn1.running_mean\", \"0.4.0.bn1.running_var\", \"0.4.0.bn1.num_batches_tracked\", \"0.4.0.conv2.weight\", \"0.4.0.bn2.weight\", \"0.4.0.bn2.bias\", \"0.4.0.bn2.running_mean\", \"0.4.0.bn2.running_var\", \"0.4.0.bn2.num_batches_tracked\", \"0.4.0.conv3.weight\", \"0.4.0.bn3.weight\", \"0.4.0.bn3.bias\", \"0.4.0.bn3.running_mean\", \"0.4.0.bn3.running_var\", \"0.4.0.bn3.num_batches_tracked\", \"0.4.0.downsample.0.weight\", \"0.4.0.downsample.1.weight\", \"0.4.0.downsample.1.bias\", \"0.4.0.downsample.1.running_mean\", \"0.4.0.downsample.1.running_var\", \"0.4.0.downsample.1.num_batches_tracked\", \"0.4.1.conv1.weight\", \"0.4.1.bn1.weight\", \"0.4.1.bn1.bias\", \"0.4.1.bn1.running_mean\", \"0.4.1.bn1.running_var\", \"0.4.1.bn1.num_batches_tracked\", \"0.4.1.conv2.weight\", \"0.4.1.bn2.weight\", \"0.4.1.bn2.bias\", \"0.4.1.bn2.running_mean\", \"0.4.1.bn2.running_var\", \"0.4.1.bn2.num_batches_tracked\", \"0.4.1.conv3.weight\", \"0.4.1.bn3.weight\", \"0.4.1.bn3.bias\", \"0.4.1.bn3.running_mean\", \"0.4.1.bn3.running_var\", \"0.4.1.bn3.num_batches_tracked\", \"0.4.2.conv1.weight\", \"0.4.2.bn1.weight\", \"0.4.2.bn1.bias\", \"0.4.2.bn1.running_mean\", \"0.4.2.bn1.running_var\", \"0.4.2.bn1.num_batches_tracked\", \"0.4.2.conv2.weight\", \"0.4.2.bn2.weight\", \"0.4.2.bn2.bias\", \"0.4.2.bn2.running_mean\", \"0.4.2.bn2.running_var\", \"0.4.2.bn2.num_batches_tracked\", \"0.4.2.conv3.weight\", \"0.4.2.bn3.weight\", \"0.4.2.bn3.bias\", \"0.4.2.bn3.running_mean\", \"0.4.2.bn3.running_var\", \"0.4.2.bn3.num_batches_tracked\", \"0.5.0.conv1.weight\", \"0.5.0.bn1.weight\", \"0.5.0.bn1.bias\", \"0.5.0.bn1.running_mean\", \"0.5.0.bn1.running_var\", \"0.5.0.bn1.num_batches_tracked\", \"0.5.0.conv2.weight\", \"0.5.0.bn2.weight\", \"0.5.0.bn2.bias\", \"0.5.0.bn2.running_mean\", \"0.5.0.bn2.running_var\", \"0.5.0.bn2.num_batches_tracked\", \"0.5.0.conv3.weight\", \"0.5.0.bn3.weight\", \"0.5.0.bn3.bias\", \"0.5.0.bn3.running_mean\", \"0.5.0.bn3.running_var\", \"0.5.0.bn3.num_batches_tracked\", \"0.5.0.downsample.0.weight\", \"0.5.0.downsample.1.weight\", \"0.5.0.downsample.1.bias\", \"0.5.0.downsample.1.running_mean\", \"0.5.0.downsample.1.running_var\", \"0.5.0.downsample.1.num_batches_tracked\", \"0.5.1.conv1.weight\", \"0.5.1.bn1.weight\", \"0.5.1.bn1.bias\", \"0.5.1.bn1.running_mean\", \"0.5.1.bn1.running_var\", \"0.5.1.bn1.num_batches_tracked\", \"0.5.1.conv2.weight\", \"0.5.1.bn2.weight\", \"0.5.1.bn2.bias\", \"0.5.1.bn2.running_mean\", \"0.5.1.bn2.running_var\", \"0.5.1.bn2.num_batches_tracked\", \"0.5.1.conv3.weight\", \"0.5.1.bn3.weight\", \"0.5.1.bn3.bias\", \"0.5.1.bn3.running_mean\", \"0.5.1.bn3.running_var\", \"0.5.1.bn3.num_batches_tracked\", \"0.5.2.conv1.weight\", \"0.5.2.bn1.weight\", \"0.5.2.bn1.bias\", \"0.5.2.bn1.running_mean\", \"0.5.2.bn1.running_var\", \"0.5.2.bn1.num_batches_tracked\", \"0.5.2.conv2.weight\", \"0.5.2.bn2.weight\", \"0.5.2.bn2.bias\", \"0.5.2.bn2.running_mean\", \"0.5.2.bn2.running_var\", \"0.5.2.bn2.num_batches_tracked\", \"0.5.2.conv3.weight\", \"0.5.2.bn3.weight\", \"0.5.2.bn3.bias\", \"0.5.2.bn3.running_mean\", \"0.5.2.bn3.running_var\", \"0.5.2.bn3.num_batches_tracked\", \"0.5.3.conv1.weight\", \"0.5.3.bn1.weight\", \"0.5.3.bn1.bias\", \"0.5.3.bn1.running_mean\", \"0.5.3.bn1.running_var\", \"0.5.3.bn1.num_batches_tracked\", \"0.5.3.conv2.weight\", \"0.5.3.bn2.weight\", \"0.5.3.bn2.bias\", \"0.5.3.bn2.running_mean\", \"0.5.3.bn2.running_var\", \"0.5.3.bn2.num_batches_tracked\", \"0.5.3.conv3.weight\", \"0.5.3.bn3.weight\", \"0.5.3.bn3.bias\", \"0.5.3.bn3.running_mean\", \"0.5.3.bn3.running_var\", \"0.5.3.bn3.num_batches_tracked\", \"0.5.4.conv1.weight\", \"0.5.4.bn1.weight\", \"0.5.4.bn1.bias\", \"0.5.4.bn1.running_mean\", \"0.5.4.bn1.running_var\", \"0.5.4.bn1.num_batches_tracked\", \"0.5.4.conv2.weight\", \"0.5.4.bn2.weight\", \"0.5.4.bn2.bias\", \"0.5.4.bn2.running_mean\", \"0.5.4.bn2.running_var\", \"0.5.4.bn2.num_batches_tracked\", \"0.5.4.conv3.weight\", \"0.5.4.bn3.weight\", \"0.5.4.bn3.bias\", \"0.5.4.bn3.running_mean\", \"0.5.4.bn3.running_var\", \"0.5.4.bn3.num_batches_tracked\", \"0.5.5.conv1.weight\", \"0.5.5.bn1.weight\", \"0.5.5.bn1.bias\", \"0.5.5.bn1.running_mean\", \"0.5.5.bn1.running_var\", \"0.5.5.bn1.num_batches_tracked\", \"0.5.5.conv2.weight\", \"0.5.5.bn2.weight\", \"0.5.5.bn2.bias\", \"0.5.5.bn2.running_mean\", \"0.5.5.bn2.running_var\", \"0.5.5.bn2.num_batches_tracked\", \"0.5.5.conv3.weight\", \"0.5.5.bn3.weight\", \"0.5.5.bn3.bias\", \"0.5.5.bn3.running_mean\", \"0.5.5.bn3.running_var\", \"0.5.5.bn3.num_batches_tracked\", \"0.5.6.conv1.weight\", \"0.5.6.bn1.weight\", \"0.5.6.bn1.bias\", \"0.5.6.bn1.running_mean\", \"0.5.6.bn1.running_var\", \"0.5.6.bn1.num_batches_tracked\", \"0.5.6.conv2.weight\", \"0.5.6.bn2.weight\", \"0.5.6.bn2.bias\", \"0.5.6.bn2.running_mean\", \"0.5.6.bn2.running_var\", \"0.5.6.bn2.num_batches_tracked\", \"0.5.6.conv3.weight\", \"0.5.6.bn3.weight\", \"0.5.6.bn3.bias\", \"0.5.6.bn3.running_mean\", \"0.5.6.bn3.running_var\", \"0.5.6.bn3.num_batches_tracked\", \"0.5.7.conv1.weight\", \"0.5.7.bn1.weight\", \"0.5.7.bn1.bias\", \"0.5.7.bn1.running_mean\", \"0.5.7.bn1.running_var\", \"0.5.7.bn1.num_batches_tracked\", \"0.5.7.conv2.weight\", \"0.5.7.bn2.weight\", \"0.5.7.bn2.bias\", \"0.5.7.bn2.running_mean\", \"0.5.7.bn2.running_var\", \"0.5.7.bn2.num_batches_tracked\", \"0.5.7.conv3.weight\", \"0.5.7.bn3.weight\", \"0.5.7.bn3.bias\", \"0.5.7.bn3.running_mean\", \"0.5.7.bn3.running_var\", \"0.5.7.bn3.num_batches_tracked\", \"0.6.0.conv1.weight\", \"0.6.0.bn1.weight\", \"0.6.0.bn1.bias\", \"0.6.0.bn1.running_mean\", \"0.6.0.bn1.running_var\", \"0.6.0.bn1.num_batches_tracked\", \"0.6.0.conv2.weight\", \"0.6.0.bn2.weight\", \"0.6.0.bn2.bias\", \"0.6.0.bn2.running_mean\", \"0.6.0.bn2.running_var\", \"0.6.0.bn2.num_batches_tracked\", \"0.6.0.conv3.weight\", \"0.6.0.bn3.weight\", \"0.6.0.bn3.bias\", \"0.6.0.bn3.running_mean\", \"0.6.0.bn3.running_var\", \"0.6.0.bn3.num_batches_tracked\", \"0.6.0.downsample.0.weight\", \"0.6.0.downsample.1.weight\", \"0.6.0.downsample.1.bias\", \"0.6.0.downsample.1.running_mean\", \"0.6.0.downsample.1.running_var\", \"0.6.0.downsample.1.num_batches_tracked\", \"0.6.1.conv1.weight\", \"0.6.1.bn1.weight\", \"0.6.1.bn1.bias\", \"0.6.1.bn1.running_mean\", \"0.6.1.bn1.running_var\", \"0.6.1.bn1.num_batches_tracked\", \"0.6.1.conv2.weight\", \"0.6.1.bn2.weight\", \"0.6.1.bn2.bias\", \"0.6.1.bn2.running_mean\", \"0.6.1.bn2.running_var\", \"0.6.1.bn2.num_batches_tracked\", \"0.6.1.conv3.weight\", \"0.6.1.bn3.weight\", \"0.6.1.bn3.bias\", \"0.6.1.bn3.running_mean\", \"0.6.1.bn3.running_var\", \"0.6.1.bn3.num_batches_tracked\", \"0.6.2.conv1.weight\", \"0.6.2.bn1.weight\", \"0.6.2.bn1.bias\", \"0.6.2.bn1.running_mean\", \"0.6.2.bn1.running_var\", \"0.6.2.bn1.num_batches_tracked\", \"0.6.2.conv2.weight\", \"0.6.2.bn2.weight\", \"0.6.2.bn2.bias\", \"0.6.2.bn2.running_mean\", \"0.6.2.bn2.running_var\", \"0.6.2.bn2.num_batches_tracked\", \"0.6.2.conv3.weight\", \"0.6.2.bn3.weight\", \"0.6.2.bn3.bias\", \"0.6.2.bn3.running_mean\", \"0.6.2.bn3.running_var\", \"0.6.2.bn3.num_batches_tracked\", \"0.6.3.conv1.weight\", \"0.6.3.bn1.weight\", \"0.6.3.bn1.bias\", \"0.6.3.bn1.running_mean\", \"0.6.3.bn1.running_var\", \"0.6.3.bn1.num_batches_tracked\", \"0.6.3.conv2.weight\", \"0.6.3.bn2.weight\", \"0.6.3.bn2.bias\", \"0.6.3.bn2.running_mean\", \"0.6.3.bn2.running_var\", \"0.6.3.bn2.num_batches_tracked\", \"0.6.3.conv3.weight\", \"0.6.3.bn3.weight\", \"0.6.3.bn3.bias\", \"0.6.3.bn3.running_mean\", \"0.6.3.bn3.running_var\", \"0.6.3.bn3.num_batches_tracked\", \"0.6.4.conv1.weight\", \"0.6.4.bn1.weight\", \"0.6.4.bn1.bias\", \"0.6.4.bn1.running_mean\", \"0.6.4.bn1.running_var\", \"0.6.4.bn1.num_batches_tracked\", \"0.6.4.conv2.weight\", \"0.6.4.bn2.weight\", \"0.6.4.bn2.bias\", \"0.6.4.bn2.running_mean\", \"0.6.4.bn2.running_var\", \"0.6.4.bn2.num_batches_tracked\", \"0.6.4.conv3.weight\", \"0.6.4.bn3.weight\", \"0.6.4.bn3.bias\", \"0.6.4.bn3.running_mean\", \"0.6.4.bn3.running_var\", \"0.6.4.bn3.num_batches_tracked\", \"0.6.5.conv1.weight\", \"0.6.5.bn1.weight\", \"0.6.5.bn1.bias\", \"0.6.5.bn1.running_mean\", \"0.6.5.bn1.running_var\", \"0.6.5.bn1.num_batches_tracked\", \"0.6.5.conv2.weight\", \"0.6.5.bn2.weight\", \"0.6.5.bn2.bias\", \"0.6.5.bn2.running_mean\", \"0.6.5.bn2.running_var\", \"0.6.5.bn2.num_batches_tracked\", \"0.6.5.conv3.weight\", \"0.6.5.bn3.weight\", \"0.6.5.bn3.bias\", \"0.6.5.bn3.running_mean\", \"0.6.5.bn3.running_var\", \"0.6.5.bn3.num_batches_tracked\", \"0.6.6.conv1.weight\", \"0.6.6.bn1.weight\", \"0.6.6.bn1.bias\", \"0.6.6.bn1.running_mean\", \"0.6.6.bn1.running_var\", \"0.6.6.bn1.num_batches_tracked\", \"0.6.6.conv2.weight\", \"0.6.6.bn2.weight\", \"0.6.6.bn2.bias\", \"0.6.6.bn2.running_mean\", \"0.6.6.bn2.running_var\", \"0.6.6.bn2.num_batches_tracked\", \"0.6.6.conv3.weight\", \"0.6.6.bn3.weight\", \"0.6.6.bn3.bias\", \"0.6.6.bn3.running_mean\", \"0.6.6.bn3.running_var\", \"0.6.6.bn3.num_batches_tracked\", \"0.6.7.conv1.weight\", \"0.6.7.bn1.weight\", \"0.6.7.bn1.bias\", \"0.6.7.bn1.running_mean\", \"0.6.7.bn1.running_var\", \"0.6.7.bn1.num_batches_tracked\", \"0.6.7.conv2.weight\", \"0.6.7.bn2.weight\", \"0.6.7.bn2.bias\", \"0.6.7.bn2.running_mean\", \"0.6.7.bn2.running_var\", \"0.6.7.bn2.num_batches_tracked\", \"0.6.7.conv3.weight\", \"0.6.7.bn3.weight\", \"0.6.7.bn3.bias\", \"0.6.7.bn3.running_mean\", \"0.6.7.bn3.running_var\", \"0.6.7.bn3.num_batches_tracked\", \"0.6.8.conv1.weight\", \"0.6.8.bn1.weight\", \"0.6.8.bn1.bias\", \"0.6.8.bn1.running_mean\", \"0.6.8.bn1.running_var\", \"0.6.8.bn1.num_batches_tracked\", \"0.6.8.conv2.weight\", \"0.6.8.bn2.weight\", \"0.6.8.bn2.bias\", \"0.6.8.bn2.running_mean\", \"0.6.8.bn2.running_var\", \"0.6.8.bn2.num_batches_tracked\", \"0.6.8.conv3.weight\", \"0.6.8.bn3.weight\", \"0.6.8.bn3.bias\", \"0.6.8.bn3.running_mean\", \"0.6.8.bn3.running_var\", \"0.6.8.bn3.num_batches_tracked\", \"0.6.9.conv1.weight\", \"0.6.9.bn1.weight\", \"0.6.9.bn1.bias\", \"0.6.9.bn1.running_mean\", \"0.6.9.bn1.running_var\", \"0.6.9.bn1.num_batches_tracked\", \"0.6.9.conv2.weight\", \"0.6.9.bn2.weight\", \"0.6.9.bn2.bias\", \"0.6.9.bn2.running_mean\", \"0.6.9.bn2.running_var\", \"0.6.9.bn2.num_batches_tracked\", \"0.6.9.conv3.weight\", \"0.6.9.bn3.weight\", \"0.6.9.bn3.bias\", \"0.6.9.bn3.running_mean\", \"0.6.9.bn3.running_var\", \"0.6.9.bn3.num_batches_tracked\", \"0.6.10.conv1.weight\", \"0.6.10.bn1.weight\", \"0.6.10.bn1.bias\", \"0.6.10.bn1.running_mean\", \"0.6.10.bn1.running_var\", \"0.6.10.bn1.num_batches_tracked\", \"0.6.10.conv2.weight\", \"0.6.10.bn2.weight\", \"0.6.10.bn2.bias\", \"0.6.10.bn2.running_mean\", \"0.6.10.bn2.running_var\", \"0.6.10.bn2.num_batches_tracked\", \"0.6.10.conv3.weight\", \"0.6.10.bn3.weight\", \"0.6.10.bn3.bias\", \"0.6.10.bn3.running_mean\", \"0.6.10.bn3.running_var\", \"0.6.10.bn3.num_batches_tracked\", \"0.6.11.conv1.weight\", \"0.6.11.bn1.weight\", \"0.6.11.bn1.bias\", \"0.6.11.bn1.running_mean\", \"0.6.11.bn1.running_var\", \"0.6.11.bn1.num_batches_tracked\", \"0.6.11.conv2.weight\", \"0.6.11.bn2.weight\", \"0.6.11.bn2.bias\", \"0.6.11.bn2.running_mean\", \"0.6.11.bn2.running_var\", \"0.6.11.bn2.num_batches_tracked\", \"0.6.11.conv3.weight\", \"0.6.11.bn3.weight\", \"0.6.11.bn3.bias\", \"0.6.11.bn3.running_mean\", \"0.6.11.bn3.running_var\", \"0.6.11.bn3.num_batches_tracked\", \"0.6.12.conv1.weight\", \"0.6.12.bn1.weight\", \"0.6.12.bn1.bias\", \"0.6.12.bn1.running_mean\", \"0.6.12.bn1.running_var\", \"0.6.12.bn1.num_batches_tracked\", \"0.6.12.conv2.weight\", \"0.6.12.bn2.weight\", \"0.6.12.bn2.bias\", \"0.6.12.bn2.running_mean\", \"0.6.12.bn2.running_var\", \"0.6.12.bn2.num_batches_tracked\", \"0.6.12.conv3.weight\", \"0.6.12.bn3.weight\", \"0.6.12.bn3.bias\", \"0.6.12.bn3.running_mean\", \"0.6.12.bn3.running_var\", \"0.6.12.bn3.num_batches_tracked\", \"0.6.13.conv1.weight\", \"0.6.13.bn1.weight\", \"0.6.13.bn1.bias\", \"0.6.13.bn1.running_mean\", \"0.6.13.bn1.running_var\", \"0.6.13.bn1.num_batches_tracked\", \"0.6.13.conv2.weight\", \"0.6.13.bn2.weight\", \"0.6.13.bn2.bias\", \"0.6.13.bn2.running_mean\", \"0.6.13.bn2.running_var\", \"0.6.13.bn2.num_batches_tracked\", \"0.6.13.conv3.weight\", \"0.6.13.bn3.weight\", \"0.6.13.bn3.bias\", \"0.6.13.bn3.running_mean\", \"0.6.13.bn3.running_var\", \"0.6.13.bn3.num_batches_tracked\", \"0.6.14.conv1.weight\", \"0.6.14.bn1.weight\", \"0.6.14.bn1.bias\", \"0.6.14.bn1.running_mean\", \"0.6.14.bn1.running_var\", \"0.6.14.bn1.num_batches_tracked\", \"0.6.14.conv2.weight\", \"0.6.14.bn2.weight\", \"0.6.14.bn2.bias\", \"0.6.14.bn2.running_mean\", \"0.6.14.bn2.running_var\", \"0.6.14.bn2.num_batches_tracked\", \"0.6.14.conv3.weight\", \"0.6.14.bn3.weight\", \"0.6.14.bn3.bias\", \"0.6.14.bn3.running_mean\", \"0.6.14.bn3.running_var\", \"0.6.14.bn3.num_batches_tracked\", \"0.6.15.conv1.weight\", \"0.6.15.bn1.weight\", \"0.6.15.bn1.bias\", \"0.6.15.bn1.running_mean\", \"0.6.15.bn1.running_var\", \"0.6.15.bn1.num_batches_tracked\", \"0.6.15.conv2.weight\", \"0.6.15.bn2.weight\", \"0.6.15.bn2.bias\", \"0.6.15.bn2.running_mean\", \"0.6.15.bn2.running_var\", \"0.6.15.bn2.num_batches_tracked\", \"0.6.15.conv3.weight\", \"0.6.15.bn3.weight\", \"0.6.15.bn3.bias\", \"0.6.15.bn3.running_mean\", \"0.6.15.bn3.running_var\", \"0.6.15.bn3.num_batches_tracked\", \"0.6.16.conv1.weight\", \"0.6.16.bn1.weight\", \"0.6.16.bn1.bias\", \"0.6.16.bn1.running_mean\", \"0.6.16.bn1.running_var\", \"0.6.16.bn1.num_batches_tracked\", \"0.6.16.conv2.weight\", \"0.6.16.bn2.weight\", \"0.6.16.bn2.bias\", \"0.6.16.bn2.running_mean\", \"0.6.16.bn2.running_var\", \"0.6.16.bn2.num_batches_tracked\", \"0.6.16.conv3.weight\", \"0.6.16.bn3.weight\", \"0.6.16.bn3.bias\", \"0.6.16.bn3.running_mean\", \"0.6.16.bn3.running_var\", \"0.6.16.bn3.num_batches_tracked\", \"0.6.17.conv1.weight\", \"0.6.17.bn1.weight\", \"0.6.17.bn1.bias\", \"0.6.17.bn1.running_mean\", \"0.6.17.bn1.running_var\", \"0.6.17.bn1.num_batches_tracked\", \"0.6.17.conv2.weight\", \"0.6.17.bn2.weight\", \"0.6.17.bn2.bias\", \"0.6.17.bn2.running_mean\", \"0.6.17.bn2.running_var\", \"0.6.17.bn2.num_batches_tracked\", \"0.6.17.conv3.weight\", \"0.6.17.bn3.weight\", \"0.6.17.bn3.bias\", \"0.6.17.bn3.running_mean\", \"0.6.17.bn3.running_var\", \"0.6.17.bn3.num_batches_tracked\", \"0.6.18.conv1.weight\", \"0.6.18.bn1.weight\", \"0.6.18.bn1.bias\", \"0.6.18.bn1.running_mean\", \"0.6.18.bn1.running_var\", \"0.6.18.bn1.num_batches_tracked\", \"0.6.18.conv2.weight\", \"0.6.18.bn2.weight\", \"0.6.18.bn2.bias\", \"0.6.18.bn2.running_mean\", \"0.6.18.bn2.running_var\", \"0.6.18.bn2.num_batches_tracked\", \"0.6.18.conv3.weight\", \"0.6.18.bn3.weight\", \"0.6.18.bn3.bias\", \"0.6.18.bn3.running_mean\", \"0.6.18.bn3.running_var\", \"0.6.18.bn3.num_batches_tracked\", \"0.6.19.conv1.weight\", \"0.6.19.bn1.weight\", \"0.6.19.bn1.bias\", \"0.6.19.bn1.running_mean\", \"0.6.19.bn1.running_var\", \"0.6.19.bn1.num_batches_tracked\", \"0.6.19.conv2.weight\", \"0.6.19.bn2.weight\", \"0.6.19.bn2.bias\", \"0.6.19.bn2.running_mean\", \"0.6.19.bn2.running_var\", \"0.6.19.bn2.num_batches_tracked\", \"0.6.19.conv3.weight\", \"0.6.19.bn3.weight\", \"0.6.19.bn3.bias\", \"0.6.19.bn3.running_mean\", \"0.6.19.bn3.running_var\", \"0.6.19.bn3.num_batches_tracked\", \"0.6.20.conv1.weight\", \"0.6.20.bn1.weight\", \"0.6.20.bn1.bias\", \"0.6.20.bn1.running_mean\", \"0.6.20.bn1.running_var\", \"0.6.20.bn1.num_batches_tracked\", \"0.6.20.conv2.weight\", \"0.6.20.bn2.weight\", \"0.6.20.bn2.bias\", \"0.6.20.bn2.running_mean\", \"0.6.20.bn2.running_var\", \"0.6.20.bn2.num_batches_tracked\", \"0.6.20.conv3.weight\", \"0.6.20.bn3.weight\", \"0.6.20.bn3.bias\", \"0.6.20.bn3.running_mean\", \"0.6.20.bn3.running_var\", \"0.6.20.bn3.num_batches_tracked\", \"0.6.21.conv1.weight\", \"0.6.21.bn1.weight\", \"0.6.21.bn1.bias\", \"0.6.21.bn1.running_mean\", \"0.6.21.bn1.running_var\", \"0.6.21.bn1.num_batches_tracked\", \"0.6.21.conv2.weight\", \"0.6.21.bn2.weight\", \"0.6.21.bn2.bias\", \"0.6.21.bn2.running_mean\", \"0.6.21.bn2.running_var\", \"0.6.21.bn2.num_batches_tracked\", \"0.6.21.conv3.weight\", \"0.6.21.bn3.weight\", \"0.6.21.bn3.bias\", \"0.6.21.bn3.running_mean\", \"0.6.21.bn3.running_var\", \"0.6.21.bn3.num_batches_tracked\", \"0.6.22.conv1.weight\", \"0.6.22.bn1.weight\", \"0.6.22.bn1.bias\", \"0.6.22.bn1.running_mean\", \"0.6.22.bn1.running_var\", \"0.6.22.bn1.num_batches_tracked\", \"0.6.22.conv2.weight\", \"0.6.22.bn2.weight\", \"0.6.22.bn2.bias\", \"0.6.22.bn2.running_mean\", \"0.6.22.bn2.running_var\", \"0.6.22.bn2.num_batches_tracked\", \"0.6.22.conv3.weight\", \"0.6.22.bn3.weight\", \"0.6.22.bn3.bias\", \"0.6.22.bn3.running_mean\", \"0.6.22.bn3.running_var\", \"0.6.22.bn3.num_batches_tracked\", \"0.6.23.conv1.weight\", \"0.6.23.bn1.weight\", \"0.6.23.bn1.bias\", \"0.6.23.bn1.running_mean\", \"0.6.23.bn1.running_var\", \"0.6.23.bn1.num_batches_tracked\", \"0.6.23.conv2.weight\", \"0.6.23.bn2.weight\", \"0.6.23.bn2.bias\", \"0.6.23.bn2.running_mean\", \"0.6.23.bn2.running_var\", \"0.6.23.bn2.num_batches_tracked\", \"0.6.23.conv3.weight\", \"0.6.23.bn3.weight\", \"0.6.23.bn3.bias\", \"0.6.23.bn3.running_mean\", \"0.6.23.bn3.running_var\", \"0.6.23.bn3.num_batches_tracked\", \"0.6.24.conv1.weight\", \"0.6.24.bn1.weight\", \"0.6.24.bn1.bias\", \"0.6.24.bn1.running_mean\", \"0.6.24.bn1.running_var\", \"0.6.24.bn1.num_batches_tracked\", \"0.6.24.conv2.weight\", \"0.6.24.bn2.weight\", \"0.6.24.bn2.bias\", \"0.6.24.bn2.running_mean\", \"0.6.24.bn2.running_var\", \"0.6.24.bn2.num_batches_tracked\", \"0.6.24.conv3.weight\", \"0.6.24.bn3.weight\", \"0.6.24.bn3.bias\", \"0.6.24.bn3.running_mean\", \"0.6.24.bn3.running_var\", \"0.6.24.bn3.num_batches_tracked\", \"0.6.25.conv1.weight\", \"0.6.25.bn1.weight\", \"0.6.25.bn1.bias\", \"0.6.25.bn1.running_mean\", \"0.6.25.bn1.running_var\", \"0.6.25.bn1.num_batches_tracked\", \"0.6.25.conv2.weight\", \"0.6.25.bn2.weight\", \"0.6.25.bn2.bias\", \"0.6.25.bn2.running_mean\", \"0.6.25.bn2.running_var\", \"0.6.25.bn2.num_batches_tracked\", \"0.6.25.conv3.weight\", \"0.6.25.bn3.weight\", \"0.6.25.bn3.bias\", \"0.6.25.bn3.running_mean\", \"0.6.25.bn3.running_var\", \"0.6.25.bn3.num_batches_tracked\", \"0.6.26.conv1.weight\", \"0.6.26.bn1.weight\", \"0.6.26.bn1.bias\", \"0.6.26.bn1.running_mean\", \"0.6.26.bn1.running_var\", \"0.6.26.bn1.num_batches_tracked\", \"0.6.26.conv2.weight\", \"0.6.26.bn2.weight\", \"0.6.26.bn2.bias\", \"0.6.26.bn2.running_mean\", \"0.6.26.bn2.running_var\", \"0.6.26.bn2.num_batches_tracked\", \"0.6.26.conv3.weight\", \"0.6.26.bn3.weight\", \"0.6.26.bn3.bias\", \"0.6.26.bn3.running_mean\", \"0.6.26.bn3.running_var\", \"0.6.26.bn3.num_batches_tracked\", \"0.6.27.conv1.weight\", \"0.6.27.bn1.weight\", \"0.6.27.bn1.bias\", \"0.6.27.bn1.running_mean\", \"0.6.27.bn1.running_var\", \"0.6.27.bn1.num_batches_tracked\", \"0.6.27.conv2.weight\", \"0.6.27.bn2.weight\", \"0.6.27.bn2.bias\", \"0.6.27.bn2.running_mean\", \"0.6.27.bn2.running_var\", \"0.6.27.bn2.num_batches_tracked\", \"0.6.27.conv3.weight\", \"0.6.27.bn3.weight\", \"0.6.27.bn3.bias\", \"0.6.27.bn3.running_mean\", \"0.6.27.bn3.running_var\", \"0.6.27.bn3.num_batches_tracked\", \"0.6.28.conv1.weight\", \"0.6.28.bn1.weight\", \"0.6.28.bn1.bias\", \"0.6.28.bn1.running_mean\", \"0.6.28.bn1.running_var\", \"0.6.28.bn1.num_batches_tracked\", \"0.6.28.conv2.weight\", \"0.6.28.bn2.weight\", \"0.6.28.bn2.bias\", \"0.6.28.bn2.running_mean\", \"0.6.28.bn2.running_var\", \"0.6.28.bn2.num_batches_tracked\", \"0.6.28.conv3.weight\", \"0.6.28.bn3.weight\", \"0.6.28.bn3.bias\", \"0.6.28.bn3.running_mean\", \"0.6.28.bn3.running_var\", \"0.6.28.bn3.num_batches_tracked\", \"0.6.29.conv1.weight\", \"0.6.29.bn1.weight\", \"0.6.29.bn1.bias\", \"0.6.29.bn1.running_mean\", \"0.6.29.bn1.running_var\", \"0.6.29.bn1.num_batches_tracked\", \"0.6.29.conv2.weight\", \"0.6.29.bn2.weight\", \"0.6.29.bn2.bias\", \"0.6.29.bn2.running_mean\", \"0.6.29.bn2.running_var\", \"0.6.29.bn2.num_batches_tracked\", \"0.6.29.conv3.weight\", \"0.6.29.bn3.weight\", \"0.6.29.bn3.bias\", \"0.6.29.bn3.running_mean\", \"0.6.29.bn3.running_var\", \"0.6.29.bn3.num_batches_tracked\", \"0.6.30.conv1.weight\", \"0.6.30.bn1.weight\", \"0.6.30.bn1.bias\", \"0.6.30.bn1.running_mean\", \"0.6.30.bn1.running_var\", \"0.6.30.bn1.num_batches_tracked\", \"0.6.30.conv2.weight\", \"0.6.30.bn2.weight\", \"0.6.30.bn2.bias\", \"0.6.30.bn2.running_mean\", \"0.6.30.bn2.running_var\", \"0.6.30.bn2.num_batches_tracked\", \"0.6.30.conv3.weight\", \"0.6.30.bn3.weight\", \"0.6.30.bn3.bias\", \"0.6.30.bn3.running_mean\", \"0.6.30.bn3.running_var\", \"0.6.30.bn3.num_batches_tracked\", \"0.6.31.conv1.weight\", \"0.6.31.bn1.weight\", \"0.6.31.bn1.bias\", \"0.6.31.bn1.running_mean\", \"0.6.31.bn1.running_var\", \"0.6.31.bn1.num_batches_tracked\", \"0.6.31.conv2.weight\", \"0.6.31.bn2.weight\", \"0.6.31.bn2.bias\", \"0.6.31.bn2.running_mean\", \"0.6.31.bn2.running_var\", \"0.6.31.bn2.num_batches_tracked\", \"0.6.31.conv3.weight\", \"0.6.31.bn3.weight\", \"0.6.31.bn3.bias\", \"0.6.31.bn3.running_mean\", \"0.6.31.bn3.running_var\", \"0.6.31.bn3.num_batches_tracked\", \"0.6.32.conv1.weight\", \"0.6.32.bn1.weight\", \"0.6.32.bn1.bias\", \"0.6.32.bn1.running_mean\", \"0.6.32.bn1.running_var\", \"0.6.32.bn1.num_batches_tracked\", \"0.6.32.conv2.weight\", \"0.6.32.bn2.weight\", \"0.6.32.bn2.bias\", \"0.6.32.bn2.running_mean\", \"0.6.32.bn2.running_var\", \"0.6.32.bn2.num_batches_tracked\", \"0.6.32.conv3.weight\", \"0.6.32.bn3.weight\", \"0.6.32.bn3.bias\", \"0.6.32.bn3.running_mean\", \"0.6.32.bn3.running_var\", \"0.6.32.bn3.num_batches_tracked\", \"0.6.33.conv1.weight\", \"0.6.33.bn1.weight\", \"0.6.33.bn1.bias\", \"0.6.33.bn1.running_mean\", \"0.6.33.bn1.running_var\", \"0.6.33.bn1.num_batches_tracked\", \"0.6.33.conv2.weight\", \"0.6.33.bn2.weight\", \"0.6.33.bn2.bias\", \"0.6.33.bn2.running_mean\", \"0.6.33.bn2.running_var\", \"0.6.33.bn2.num_batches_tracked\", \"0.6.33.conv3.weight\", \"0.6.33.bn3.weight\", \"0.6.33.bn3.bias\", \"0.6.33.bn3.running_mean\", \"0.6.33.bn3.running_var\", \"0.6.33.bn3.num_batches_tracked\", \"0.6.34.conv1.weight\", \"0.6.34.bn1.weight\", \"0.6.34.bn1.bias\", \"0.6.34.bn1.running_mean\", \"0.6.34.bn1.running_var\", \"0.6.34.bn1.num_batches_tracked\", \"0.6.34.conv2.weight\", \"0.6.34.bn2.weight\", \"0.6.34.bn2.bias\", \"0.6.34.bn2.running_mean\", \"0.6.34.bn2.running_var\", \"0.6.34.bn2.num_batches_tracked\", \"0.6.34.conv3.weight\", \"0.6.34.bn3.weight\", \"0.6.34.bn3.bias\", \"0.6.34.bn3.running_mean\", \"0.6.34.bn3.running_var\", \"0.6.34.bn3.num_batches_tracked\", \"0.6.35.conv1.weight\", \"0.6.35.bn1.weight\", \"0.6.35.bn1.bias\", \"0.6.35.bn1.running_mean\", \"0.6.35.bn1.running_var\", \"0.6.35.bn1.num_batches_tracked\", \"0.6.35.conv2.weight\", \"0.6.35.bn2.weight\", \"0.6.35.bn2.bias\", \"0.6.35.bn2.running_mean\", \"0.6.35.bn2.running_var\", \"0.6.35.bn2.num_batches_tracked\", \"0.6.35.conv3.weight\", \"0.6.35.bn3.weight\", \"0.6.35.bn3.bias\", \"0.6.35.bn3.running_mean\", \"0.6.35.bn3.running_var\", \"0.6.35.bn3.num_batches_tracked\", \"0.7.0.conv1.weight\", \"0.7.0.bn1.weight\", \"0.7.0.bn1.bias\", \"0.7.0.bn1.running_mean\", \"0.7.0.bn1.running_var\", \"0.7.0.bn1.num_batches_tracked\", \"0.7.0.conv2.weight\", \"0.7.0.bn2.weight\", \"0.7.0.bn2.bias\", \"0.7.0.bn2.running_mean\", \"0.7.0.bn2.running_var\", \"0.7.0.bn2.num_batches_tracked\", \"0.7.0.conv3.weight\", \"0.7.0.bn3.weight\", \"0.7.0.bn3.bias\", \"0.7.0.bn3.running_mean\", \"0.7.0.bn3.running_var\", \"0.7.0.bn3.num_batches_tracked\", \"0.7.0.downsample.0.weight\", \"0.7.0.downsample.1.weight\", \"0.7.0.downsample.1.bias\", \"0.7.0.downsample.1.running_mean\", \"0.7.0.downsample.1.running_var\", \"0.7.0.downsample.1.num_batches_tracked\", \"0.7.1.conv1.weight\", \"0.7.1.bn1.weight\", \"0.7.1.bn1.bias\", \"0.7.1.bn1.running_mean\", \"0.7.1.bn1.running_var\", \"0.7.1.bn1.num_batches_tracked\", \"0.7.1.conv2.weight\", \"0.7.1.bn2.weight\", \"0.7.1.bn2.bias\", \"0.7.1.bn2.running_mean\", \"0.7.1.bn2.running_var\", \"0.7.1.bn2.num_batches_tracked\", \"0.7.1.conv3.weight\", \"0.7.1.bn3.weight\", \"0.7.1.bn3.bias\", \"0.7.1.bn3.running_mean\", \"0.7.1.bn3.running_var\", \"0.7.1.bn3.num_batches_tracked\", \"0.7.2.conv1.weight\", \"0.7.2.bn1.weight\", \"0.7.2.bn1.bias\", \"0.7.2.bn1.running_mean\", \"0.7.2.bn1.running_var\", \"0.7.2.bn1.num_batches_tracked\", \"0.7.2.conv2.weight\", \"0.7.2.bn2.weight\", \"0.7.2.bn2.bias\", \"0.7.2.bn2.running_mean\", \"0.7.2.bn2.running_var\", \"0.7.2.bn2.num_batches_tracked\", \"0.7.2.conv3.weight\", \"0.7.2.bn3.weight\", \"0.7.2.bn3.bias\", \"0.7.2.bn3.running_mean\", \"0.7.2.bn3.running_var\", \"0.7.2.bn3.num_batches_tracked\", \"1.2.weight\", \"1.2.bias\", \"1.2.running_mean\", \"1.2.running_var\", \"1.2.num_batches_tracked\", \"1.4.weight\", \"1.4.bias\", \"1.6.weight\", \"1.6.bias\", \"1.6.running_mean\", \"1.6.running_var\", \"1.6.num_batches_tracked\", \"1.8.weight\", \"1.8.bias\". ",
          "traceback": [
            "\u001b[0;31m---------------------------------------------------------------------------\u001b[0m",
            "\u001b[0;31mRuntimeError\u001b[0m                              Traceback (most recent call last)",
            "\u001b[0;32m<ipython-input-13-b57e2af9e617>\u001b[0m in \u001b[0;36m<cell line: 13>\u001b[0;34m()\u001b[0m\n\u001b[1;32m     11\u001b[0m \u001b[0;34m\u001b[0m\u001b[0m\n\u001b[1;32m     12\u001b[0m \u001b[0;31m# Load the model weights\u001b[0m\u001b[0;34m\u001b[0m\u001b[0;34m\u001b[0m\u001b[0m\n\u001b[0;32m---> 13\u001b[0;31m \u001b[0mmodel\u001b[0m\u001b[0;34m.\u001b[0m\u001b[0mload_state_dict\u001b[0m\u001b[0;34m(\u001b[0m\u001b[0mloc\u001b[0m\u001b[0;34m[\u001b[0m\u001b[0;34m'model'\u001b[0m\u001b[0;34m]\u001b[0m\u001b[0;34m)\u001b[0m\u001b[0;34m\u001b[0m\u001b[0;34m\u001b[0m\u001b[0m\n\u001b[0m\u001b[1;32m     14\u001b[0m \u001b[0;34m\u001b[0m\u001b[0m\n\u001b[1;32m     15\u001b[0m \u001b[0;31m# Set the model to evaluation mode\u001b[0m\u001b[0;34m\u001b[0m\u001b[0;34m\u001b[0m\u001b[0m\n",
            "\u001b[0;32m/usr/local/lib/python3.10/dist-packages/torch/nn/modules/module.py\u001b[0m in \u001b[0;36mload_state_dict\u001b[0;34m(self, state_dict, strict, assign)\u001b[0m\n\u001b[1;32m   2150\u001b[0m \u001b[0;34m\u001b[0m\u001b[0m\n\u001b[1;32m   2151\u001b[0m         \u001b[0;32mif\u001b[0m \u001b[0mlen\u001b[0m\u001b[0;34m(\u001b[0m\u001b[0merror_msgs\u001b[0m\u001b[0;34m)\u001b[0m \u001b[0;34m>\u001b[0m \u001b[0;36m0\u001b[0m\u001b[0;34m:\u001b[0m\u001b[0;34m\u001b[0m\u001b[0;34m\u001b[0m\u001b[0m\n\u001b[0;32m-> 2152\u001b[0;31m             raise RuntimeError('Error(s) in loading state_dict for {}:\\n\\t{}'.format(\n\u001b[0m\u001b[1;32m   2153\u001b[0m                                self.__class__.__name__, \"\\n\\t\".join(error_msgs)))\n\u001b[1;32m   2154\u001b[0m         \u001b[0;32mreturn\u001b[0m \u001b[0m_IncompatibleKeys\u001b[0m\u001b[0;34m(\u001b[0m\u001b[0mmissing_keys\u001b[0m\u001b[0;34m,\u001b[0m \u001b[0munexpected_keys\u001b[0m\u001b[0;34m)\u001b[0m\u001b[0;34m\u001b[0m\u001b[0;34m\u001b[0m\u001b[0m\n",
            "\u001b[0;31mRuntimeError\u001b[0m: Error(s) in loading state_dict for ResNet:\n\tMissing key(s) in state_dict: \"conv1.weight\", \"bn1.weight\", \"bn1.bias\", \"bn1.running_mean\", \"bn1.running_var\", \"layer1.0.conv1.weight\", \"layer1.0.bn1.weight\", \"layer1.0.bn1.bias\", \"layer1.0.bn1.running_mean\", \"layer1.0.bn1.running_var\", \"layer1.0.conv2.weight\", \"layer1.0.bn2.weight\", \"layer1.0.bn2.bias\", \"layer1.0.bn2.running_mean\", \"layer1.0.bn2.running_var\", \"layer1.0.conv3.weight\", \"layer1.0.bn3.weight\", \"layer1.0.bn3.bias\", \"layer1.0.bn3.running_mean\", \"layer1.0.bn3.running_var\", \"layer1.0.downsample.0.weight\", \"layer1.0.downsample.1.weight\", \"layer1.0.downsample.1.bias\", \"layer1.0.downsample.1.running_mean\", \"layer1.0.downsample.1.running_var\", \"layer1.1.conv1.weight\", \"layer1.1.bn1.weight\", \"layer1.1.bn1.bias\", \"layer1.1.bn1.running_mean\", \"layer1.1.bn1.running_var\", \"layer1.1.conv2.weight\", \"layer1.1.bn2.weight\", \"layer1.1.bn2.bias\", \"layer1.1.bn2.running_mean\", \"layer1.1.bn2.running_var\", \"layer1.1.conv3.weight\", \"layer1.1.bn3.weight\", \"layer1.1.bn3.bias\", \"layer1.1.bn3.running_mean\", \"layer1.1.bn3.running_var\", \"layer1.2.conv1.weight\", \"layer1.2.bn1.weight\", \"layer1.2.bn1.bias\", \"layer1.2.bn1.running_mean\", \"layer1.2.bn1.running_var\", \"layer1.2.conv2.weight\", \"layer1.2.bn2.weight\", \"layer1.2.bn2.bias\", \"layer1.2.bn2.running_mean\", \"layer1.2.bn2.running_var\", \"layer1.2.conv3.weight\", \"layer1.2.bn3.weight\", \"layer1.2.bn3.bias\", \"layer1.2.bn3.running_mean\", \"layer1.2.bn3.running_var\", \"layer2.0.conv1.weight\", \"layer2.0.bn1.weight\", \"layer2.0.bn1.bias\", \"layer2.0.bn1...\n\tUnexpected key(s) in state_dict: \"0.0.weight\", \"0.1.weight\", \"0.1.bias\", \"0.1.running_mean\", \"0.1.running_var\", \"0.1.num_batches_tracked\", \"0.4.0.conv1.weight\", \"0.4.0.bn1.weight\", \"0.4.0.bn1.bias\", \"0.4.0.bn1.running_mean\", \"0.4.0.bn1.running_var\", \"0.4.0.bn1.num_batches_tracked\", \"0.4.0.conv2.weight\", \"0.4.0.bn2.weight\", \"0.4.0.bn2.bias\", \"0.4.0.bn2.running_mean\", \"0.4.0.bn2.running_var\", \"0.4.0.bn2.num_batches_tracked\", \"0.4.0.conv3.weight\", \"0.4.0.bn3.weight\", \"0.4.0.bn3.bias\", \"0.4.0.bn3.running_mean\", \"0.4.0.bn3.running_var\", \"0.4.0.bn3.num_batches_tracked\", \"0.4.0.downsample.0.weight\", \"0.4.0.downsample.1.weight\", \"0.4.0.downsample.1.bias\", \"0.4.0.downsample.1.running_mean\", \"0.4.0.downsample.1.running_var\", \"0.4.0.downsample.1.num_batches_tracked\", \"0.4.1.conv1.weight\", \"0.4.1.bn1.weight\", \"0.4.1.bn1.bias\", \"0.4.1.bn1.running_mean\", \"0.4.1.bn1.running_var\", \"0.4.1.bn1.num_batches_tracked\", \"0.4.1.conv2.weight\", \"0.4.1.bn2.weight\", \"0.4.1.bn2.bias\", \"0.4.1.bn2.running_mean\", \"0.4.1.bn2.running_var\", \"0.4.1.bn2.num_batches_tracked\", \"0.4.1.conv3.weight\", \"0.4.1.bn3.weight\", \"0.4.1.bn3.bias\", \"0.4.1.bn3.running_mean\", \"0.4.1.bn3.running_var\", \"0.4.1.bn3.num_batches_tracked\", \"0.4.2.conv1.weight\", \"0.4.2.bn1.weight\", \"0.4.2.bn1.bias\", \"0.4.2.bn1.running_mean\", \"0.4.2.bn1.running_var\", \"0.4.2.bn1.num_batches_tracked\", \"0.4.2.conv2.weight\", \"0.4.2.bn2.weight\", \"0.4.2.bn2.bias\", \"0.4.2.bn2.running_mean\", \"0.4.2.bn2.running_var\", \"0.4.2.bn2.num_batches_tracked\", \"0.4.2.co..."
          ]
        }
      ]
    },
    {
      "cell_type": "code",
      "source": [
        "from fastai.vision import load_learner, open_image\n",
        "\n",
        "# Load the exported learner\n",
        "learn = load_learner(Path(\"/content/drive/MyDrive/deep model\"), \"export.pkl\")\n",
        "\n",
        "# Make predictions on new images\n",
        "img_fake = open_image('/kaggle/input/deepfake-and-real-images/Dataset/Test/Fake/fake_1052.jpg')\n",
        "pred_fake, _, _ = learn.predict(img_fake)\n",
        "print(pred_fake)\n",
        "\n",
        "img_real = open_image('/kaggle/input/deepfake-and-real-images/Dataset/Test/Real/real_1022.jpg')\n",
        "pred_real, _, _ = learn.predict(img_real)\n",
        "print(pred_real)\n"
      ],
      "metadata": {
        "colab": {
          "base_uri": "https://localhost:8080/",
          "height": 399
        },
        "id": "aDozXkxQC5GP",
        "outputId": "1b33d0ca-cef9-4e9a-cc6c-878947e0f608"
      },
      "execution_count": null,
      "outputs": [
        {
          "output_type": "error",
          "ename": "ImportError",
          "evalue": "cannot import name 'load_learner' from 'fastai.vision' (/usr/local/lib/python3.10/dist-packages/fastai/vision/__init__.py)",
          "traceback": [
            "\u001b[0;31m---------------------------------------------------------------------------\u001b[0m",
            "\u001b[0;31mImportError\u001b[0m                               Traceback (most recent call last)",
            "\u001b[0;32m<ipython-input-14-824705c84c24>\u001b[0m in \u001b[0;36m<cell line: 1>\u001b[0;34m()\u001b[0m\n\u001b[0;32m----> 1\u001b[0;31m \u001b[0;32mfrom\u001b[0m \u001b[0mfastai\u001b[0m\u001b[0;34m.\u001b[0m\u001b[0mvision\u001b[0m \u001b[0;32mimport\u001b[0m \u001b[0mload_learner\u001b[0m\u001b[0;34m,\u001b[0m \u001b[0mopen_image\u001b[0m\u001b[0;34m\u001b[0m\u001b[0;34m\u001b[0m\u001b[0m\n\u001b[0m\u001b[1;32m      2\u001b[0m \u001b[0;34m\u001b[0m\u001b[0m\n\u001b[1;32m      3\u001b[0m \u001b[0;31m# Load the exported learner\u001b[0m\u001b[0;34m\u001b[0m\u001b[0;34m\u001b[0m\u001b[0m\n\u001b[1;32m      4\u001b[0m \u001b[0mlearn\u001b[0m \u001b[0;34m=\u001b[0m \u001b[0mload_learner\u001b[0m\u001b[0;34m(\u001b[0m\u001b[0mPath\u001b[0m\u001b[0;34m(\u001b[0m\u001b[0;34m\"/content/drive/MyDrive/deep model\"\u001b[0m\u001b[0;34m)\u001b[0m\u001b[0;34m,\u001b[0m \u001b[0;34m\"export.pkl\"\u001b[0m\u001b[0;34m)\u001b[0m\u001b[0;34m\u001b[0m\u001b[0;34m\u001b[0m\u001b[0m\n\u001b[1;32m      5\u001b[0m \u001b[0;34m\u001b[0m\u001b[0m\n",
            "\u001b[0;31mImportError\u001b[0m: cannot import name 'load_learner' from 'fastai.vision' (/usr/local/lib/python3.10/dist-packages/fastai/vision/__init__.py)",
            "",
            "\u001b[0;31m---------------------------------------------------------------------------\u001b[0;32m\nNOTE: If your import is failing due to a missing package, you can\nmanually install dependencies using either !pip or !apt.\n\nTo view examples of installing some common dependencies, click the\n\"Open Examples\" button below.\n\u001b[0;31m---------------------------------------------------------------------------\u001b[0m\n"
          ],
          "errorDetails": {
            "actions": [
              {
                "action": "open_url",
                "actionText": "Open Examples",
                "url": "/notebooks/snippets/importing_libraries.ipynb"
              }
            ]
          }
        }
      ]
    }
  ]
}